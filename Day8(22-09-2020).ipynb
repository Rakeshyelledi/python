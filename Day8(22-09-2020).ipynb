{
 "cells": [
  {
   "cell_type": "markdown",
   "metadata": {},
   "source": [
    "- To check wheater given number is positive or negative number?\n",
    "    - First you have to read anumber from user\n",
    "    - Then write logic tocheck that number is positive or not.\n",
    "- To check wheather given number is even number or not?"
   ]
  },
  {
   "cell_type": "code",
   "execution_count": 8,
   "metadata": {},
   "outputs": [
    {
     "name": "stdout",
     "output_type": "stream",
     "text": [
      "Enter a number: 2\n",
      "Positive number\n"
     ]
    }
   ],
   "source": [
    "### task 1:\n",
    "num = int(input(\"Enter a number: \"))\n",
    "if num>=0:\n",
    "    print(\"Positive number\")\n",
    "else:\n",
    "    print(\"Negative number\")"
   ]
  },
  {
   "cell_type": "code",
   "execution_count": 10,
   "metadata": {},
   "outputs": [
    {
     "name": "stdout",
     "output_type": "stream",
     "text": [
      "Enter a number:5\n",
      "the number is odd\n"
     ]
    }
   ],
   "source": [
    "n = int(input(\"Enter a number:\"))\n",
    "if (n% 2) == 0:\n",
    "    print(\"the number is even\")\n",
    "else:\n",
    "    print(\"the number is odd\")\n"
   ]
  },
  {
   "cell_type": "markdown",
   "metadata": {},
   "source": [
    "### Tasks:\n",
    "- To check wheather given year is leap year or not?\n",
    "- To check wheather given character is vowel or consonant?   (completed)\n",
    "- To check wheather given two values are eqaul or not?\n",
    "- To find biggest of two numbers?\n",
    "- To find the biggest of three numbers?\n",
    "- To calculate the student grading system?\n",
    "- To print the 1 to n natural numbers in increment order?\n",
    "- To print the 1 to n natural numbers in decrement order?\n",
    "- To print the sum of 1 to n natural numbers?                (completed)\n",
    "- To print the even numbers between 1 to n natural numbers?  (completed)\n",
    "- To print the odd numbers between 1 to n natural numbers?   (completed)\n",
    "- To print the sum of even natural numbers?                  (completed)\n",
    "- To print the sum of odd natural numbers?                   (completed)"
   ]
  },
  {
   "cell_type": "code",
   "execution_count": 33,
   "metadata": {},
   "outputs": [
    {
     "name": "stdout",
     "output_type": "stream",
     "text": [
      "Enter a char : A\n",
      "ch is vowel\n"
     ]
    }
   ],
   "source": [
    "## To check wheather given character is vowel or consonant?\n",
    "n = input(\"Enter a char : \")\n",
    "if (n == 'a' or n == 'e' or n == 'i' or n =='o' or n =='u' or n == 'A' or n == 'E' or n == 'I' or n =='O' or n =='U'):\n",
    "    print(\"ch is vowel\")\n",
    "else:\n",
    "    print(\"ch is consonant\")"
   ]
  },
  {
   "cell_type": "code",
   "execution_count": 36,
   "metadata": {},
   "outputs": [
    {
     "name": "stdout",
     "output_type": "stream",
     "text": [
      "a\n",
      "ch is vowel\n"
     ]
    }
   ],
   "source": [
    "## To check wheather given character is vowel or consonant?\n",
    "li = ['a','e','i','o','u','A','E','I','O','U']\n",
    "ch = input()\n",
    "if ch in li:\n",
    "    print(\"ch is vowel\")\n",
    "else:\n",
    "    print(\"ch is consonant\")"
   ]
  },
  {
   "cell_type": "code",
   "execution_count": 39,
   "metadata": {},
   "outputs": [
    {
     "name": "stdout",
     "output_type": "stream",
     "text": [
      "a\n"
     ]
    },
    {
     "data": {
      "text/plain": [
       "True"
      ]
     },
     "execution_count": 39,
     "metadata": {},
     "output_type": "execute_result"
    }
   ],
   "source": [
    "## To check wheather given character is vowel or consonant by using function method\n",
    "li = ['a','e','i','o','u','A','E','I','O','U']\n",
    "def isVowel(ch):\n",
    "    if ch in li:\n",
    "        return True\n",
    "    else:\n",
    "        return False\n",
    "ch = input()\n",
    "isVowel(ch)"
   ]
  },
  {
   "cell_type": "code",
   "execution_count": 21,
   "metadata": {},
   "outputs": [
    {
     "name": "stdout",
     "output_type": "stream",
     "text": [
      "5\n",
      "False\n"
     ]
    }
   ],
   "source": [
    "## even or odd\n",
    "def isEven(n1):\n",
    "    if n1%2==0:\n",
    "        return True\n",
    "    else:\n",
    "        return False\n",
    "\n",
    "n = int(input())\n",
    "rs = isEven(n)\n",
    "print(rs)"
   ]
  },
  {
   "cell_type": "code",
   "execution_count": 20,
   "metadata": {},
   "outputs": [
    {
     "name": "stdout",
     "output_type": "stream",
     "text": [
      "enter a range:5\n",
      "1\n"
     ]
    }
   ],
   "source": [
    "## To print the sum of even natural numbers?\n",
    "num = int(input(\"enter a range:\"))\n",
    "sm = 0\n",
    "for i in range(2,num+1):\n",
    "    if isEven(i):\n",
    "        sm += i\n",
    "    \n",
    "print(sm)    "
   ]
  },
  {
   "cell_type": "code",
   "execution_count": 15,
   "metadata": {},
   "outputs": [
    {
     "name": "stdout",
     "output_type": "stream",
     "text": [
      "enter a range:10\n",
      "25\n"
     ]
    }
   ],
   "source": [
    "## To print the sum of odd natural numbers?\n",
    "num = int(input(\"enter a range:\"))\n",
    "sm = 0\n",
    "for i in range(1,num+1):\n",
    "    if isEven(i):\n",
    "        pass\n",
    "    else:\n",
    "        sm += i\n",
    "    \n",
    "print(sm)    "
   ]
  },
  {
   "cell_type": "code",
   "execution_count": null,
   "metadata": {},
   "outputs": [],
   "source": [
    "## To print the 1 to n natural numbers in increment order?\n"
   ]
  },
  {
   "cell_type": "code",
   "execution_count": 26,
   "metadata": {},
   "outputs": [
    {
     "name": "stdout",
     "output_type": "stream",
     "text": [
      "10\n",
      "55\n"
     ]
    }
   ],
   "source": [
    "## To print the sum of n natural numbers?\n",
    "def sumOfNNaturalNums(n):\n",
    "    sm = 0\n",
    "    for i in range(1,n+1):\n",
    "        sm += i\n",
    "    return  sm  \n",
    "        \n",
    "        \n",
    "num = int(input())\n",
    "rs = sumOfNNaturalNums(num)\n",
    "print(rs)"
   ]
  },
  {
   "cell_type": "code",
   "execution_count": 28,
   "metadata": {},
   "outputs": [
    {
     "name": "stdout",
     "output_type": "stream",
     "text": [
      "10\n",
      "3628800\n"
     ]
    }
   ],
   "source": [
    "## To print the product of n natural numbers?\n",
    "def productOfNNaturalNums(n):\n",
    "    sm = 1\n",
    "    for i in range(1,n+1):\n",
    "        sm *= i\n",
    "    return  sm  \n",
    "        \n",
    "        \n",
    "num = int(input())\n",
    "rs = productOfNNaturalNums(num)\n",
    "print(rs)"
   ]
  },
  {
   "cell_type": "code",
   "execution_count": 1,
   "metadata": {},
   "outputs": [
    {
     "name": "stdout",
     "output_type": "stream",
     "text": [
      "Enter the start of range: 1\n",
      "Enter the end of range: 10\n",
      "2 4 6 8 10 "
     ]
    }
   ],
   "source": [
    "## To print the even numbers between 1 to n natural numbers?\n",
    "start = int(input(\"Enter the start of range: \")) \n",
    "end = int(input(\"Enter the end of range: \")) \n",
    "for num in range(start, end +1): \n",
    "    if num % 2 == 0: \n",
    "        print(num, end = \" \")"
   ]
  },
  {
   "cell_type": "code",
   "execution_count": 3,
   "metadata": {},
   "outputs": [
    {
     "name": "stdout",
     "output_type": "stream",
     "text": [
      "Enter the start of range: 1\n",
      "Enter the end of range: 10\n",
      "1 3 5 7 9 "
     ]
    }
   ],
   "source": [
    "## To print the odd numbers between 1 to n natural numbers?\n",
    "start = int(input(\"Enter the start of range: \")) \n",
    "end = int(input(\"Enter the end of range: \")) \n",
    "for num in range(start, end +1): \n",
    "    if num % 2 != 0: \n",
    "        print(num, end = \" \")"
   ]
  },
  {
   "cell_type": "code",
   "execution_count": null,
   "metadata": {},
   "outputs": [],
   "source": []
  }
 ],
 "metadata": {
  "kernelspec": {
   "display_name": "Python 3",
   "language": "python",
   "name": "python3"
  },
  "language_info": {
   "codemirror_mode": {
    "name": "ipython",
    "version": 3
   },
   "file_extension": ".py",
   "mimetype": "text/x-python",
   "name": "python",
   "nbconvert_exporter": "python",
   "pygments_lexer": "ipython3",
   "version": "3.7.4"
  }
 },
 "nbformat": 4,
 "nbformat_minor": 4
}
