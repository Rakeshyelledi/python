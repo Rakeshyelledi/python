{
 "cells": [
  {
   "cell_type": "markdown",
   "metadata": {},
   "source": [
    "## OOP's(Object Oriented Programing):\n",
    "- here we will split a large program into sub parts\n",
    "- use of this oops is hiding data like packages\n",
    "- opps provide better security\n",
    "\n",
    "### - properties\n",
    "- class\n",
    "- object\n",
    "- method\n",
    "- polymorphism\n",
    "- encapsulations\n",
    "- abstraction\n"
   ]
  },
  {
   "cell_type": "markdown",
   "metadata": {},
   "source": [
    "###  class: \n",
    "- class is blue print of the object\n",
    "- class is collection of member variable(object) and member functions(methods).\n",
    "```\n",
    "class class_name:\n",
    "    member variables\n",
    "    member functions\n",
    "```\n",
    "\n",
    "### rules for defing a class:\n",
    "- first leter is captial or class name should start with captial\n",
    "- should use a class keyword\n",
    "- sould not contains spaces\n",
    "- The class name should not be started with numbers\n"
   ]
  },
  {
   "cell_type": "markdown",
   "metadata": {},
   "source": [
    "### functions and methods\n",
    "- in oop functions are called as method\n",
    "\n",
    "```\n",
    "def add():\n",
    "    return 4+5\n",
    "\n",
    "class Hello:\n",
    "    def add():\n",
    "        return 4+5\n",
    "```"
   ]
  },
  {
   "cell_type": "code",
   "execution_count": 5,
   "metadata": {},
   "outputs": [
    {
     "name": "stdout",
     "output_type": "stream",
     "text": [
      "abdul\n",
      "12\n",
      "i am from printInfo()\n",
      "None\n"
     ]
    }
   ],
   "source": [
    "class MyInfo:\n",
    "    name = \"abdul\"\n",
    "    rollno = 12\n",
    "    \n",
    "    def printInfo():\n",
    "        print(\"i am from printInfo()\")\n",
    "        \n",
    "print(MyInfo.name)\n",
    "print(MyInfo.rollno)\n",
    "print(MyInfo.printInfo())"
   ]
  },
  {
   "cell_type": "markdown",
   "metadata": {},
   "source": [
    "## objects:\n",
    "- instance of a class\n",
    "- real time entity\n",
    "\n",
    "```\n",
    "object_name = class_name\n",
    "```"
   ]
  },
  {
   "cell_type": "code",
   "execution_count": 8,
   "metadata": {},
   "outputs": [
    {
     "name": "stdout",
     "output_type": "stream",
     "text": [
      "abdul\n",
      "i am from printInfo()\n",
      "None\n"
     ]
    }
   ],
   "source": [
    "class MyInfo:\n",
    "    name = \"abdul\"\n",
    "    rollno = 12\n",
    "    \n",
    "    def printInfo():\n",
    "        print(\"i am from printInfo()\")\n",
    "        \n",
    "obj = MyInfo\n",
    "print(obj.name)\n",
    "print(obj.printInfo())"
   ]
  },
  {
   "cell_type": "code",
   "execution_count": 31,
   "metadata": {},
   "outputs": [
    {
     "name": "stdout",
     "output_type": "stream",
     "text": [
      "11\n",
      "-1\n",
      "30\n"
     ]
    }
   ],
   "source": [
    "class MyMath():\n",
    "    \n",
    "    '''\n",
    "    hi welcome to MyMath class,\n",
    "    here we implemenrted add() for that add u have to pass 2  parms\n",
    "    '''\n",
    "    \n",
    "    def add(n1, n2):\n",
    "        return n1 + n2\n",
    "    def sub(n1, n2):\n",
    "        return n1 - n2\n",
    "    def mul(n1, n2):\n",
    "        return n1 * n2    \n",
    "obj = MyMath\n",
    "print(obj.add(5,6))\n",
    "print(obj.sub (5,6))\n",
    "print(obj.mul (5,6))\n"
   ]
  },
  {
   "cell_type": "markdown",
   "metadata": {},
   "source": [
    "## Constructor:\n",
    "- without using object we will call constructor method(when object is created)\n",
    "- in python __init__(self) method will work as a constructor\n",
    "- constructors are two types:\n",
    "    - default and parametered"
   ]
  },
  {
   "cell_type": "code",
   "execution_count": 38,
   "metadata": {},
   "outputs": [
    {
     "name": "stdout",
     "output_type": "stream",
     "text": [
      "5   9\n",
      "14\n"
     ]
    }
   ],
   "source": [
    "class MyMath():\n",
    "    \n",
    "    '''\n",
    "    hi welcome to MyMath class,\n",
    "    here we implemenrted add() for that add u have to pass 2 parms\n",
    "    '''\n",
    "    def __init__(self,n1,n2):\n",
    "        self.n1 = n1\n",
    "        self.n2 = n2\n",
    "        print(self.n1,' ',self.n2)\n",
    "        \n",
    "    def add(self):\n",
    "        return self.n1 + self.n2\n",
    "    \n",
    "      \n",
    "obj = MyMath(5,9)\n",
    "print(obj.add())"
   ]
  },
  {
   "cell_type": "code",
   "execution_count": null,
   "metadata": {},
   "outputs": [],
   "source": []
  }
 ],
 "metadata": {
  "kernelspec": {
   "display_name": "Python 3",
   "language": "python",
   "name": "python3"
  },
  "language_info": {
   "codemirror_mode": {
    "name": "ipython",
    "version": 3
   },
   "file_extension": ".py",
   "mimetype": "text/x-python",
   "name": "python",
   "nbconvert_exporter": "python",
   "pygments_lexer": "ipython3",
   "version": "3.7.4"
  }
 },
 "nbformat": 4,
 "nbformat_minor": 4
}
