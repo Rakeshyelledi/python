{
 "cells": [
  {
   "cell_type": "code",
   "execution_count": null,
   "metadata": {
    "colab": {
     "base_uri": "https://localhost:8080/",
     "height": 34
    },
    "executionInfo": {
     "elapsed": 1326,
     "status": "ok",
     "timestamp": 1601098526269,
     "user": {
      "displayName": "Rakesh Yelledi",
      "photoUrl": "https://lh3.googleusercontent.com/a-/AOh14GhL0f0OnSUlJdw_Rjqjs39Vckx1i-jNk2ShDpDGwg=s64",
      "userId": "00099025771461358222"
     },
     "user_tz": -330
    },
    "id": "5aBIGw674RW_",
    "outputId": "00e8d842-911a-40de-fa3c-3a15dbef5e06"
   },
   "outputs": [
    {
     "name": "stdout",
     "output_type": "stream",
     "text": [
      "Welcome to the collections concept in python\n"
     ]
    }
   ],
   "source": [
    "print(\"Welcome to the collections concept in python\")"
   ]
  },
  {
   "cell_type": "code",
   "execution_count": null,
   "metadata": {
    "id": "W_MxwBMl6Ki_"
   },
   "outputs": [],
   "source": [
    "# collection in python \n",
    "      - List\n",
    "      - Tuple\n",
    "      - Set \n",
    "      - Dictionary "
   ]
  },
  {
   "cell_type": "code",
   "execution_count": null,
   "metadata": {
    "id": "hcDlf7Be6j2T"
   },
   "outputs": [],
   "source": [
    "#List\n",
    " - List data can be represented by using [] or list()\n",
    " - List allow duplicate value\n",
    " - We can manipulate data by using indexing and Slicing\n",
    " - ordered format values are stored in a list\n",
    " \n",
    " "
   ]
  },
  {
   "cell_type": "code",
   "execution_count": null,
   "metadata": {
    "colab": {
     "base_uri": "https://localhost:8080/",
     "height": 34
    },
    "executionInfo": {
     "elapsed": 1376,
     "status": "ok",
     "timestamp": 1601099064950,
     "user": {
      "displayName": "Rakesh Yelledi",
      "photoUrl": "https://lh3.googleusercontent.com/a-/AOh14GhL0f0OnSUlJdw_Rjqjs39Vckx1i-jNk2ShDpDGwg=s64",
      "userId": "00099025771461358222"
     },
     "user_tz": -330
    },
    "id": "MT0B1XDv79nh",
    "outputId": "749edb43-2479-4421-fd2b-e60bc99ab472"
   },
   "outputs": [
    {
     "data": {
      "text/plain": [
       "[121, 23213, 3123, 2133]"
      ]
     },
     "execution_count": 8,
     "metadata": {
      "tags": []
     },
     "output_type": "execute_result"
    }
   ],
   "source": [
    "List1=[121,23213,3123,2133]\n",
    "List1"
   ]
  },
  {
   "cell_type": "code",
   "execution_count": null,
   "metadata": {
    "colab": {
     "base_uri": "https://localhost:8080/",
     "height": 34
    },
    "executionInfo": {
     "elapsed": 1383,
     "status": "ok",
     "timestamp": 1601099129159,
     "user": {
      "displayName": "Rakesh Yelledi",
      "photoUrl": "https://lh3.googleusercontent.com/a-/AOh14GhL0f0OnSUlJdw_Rjqjs39Vckx1i-jNk2ShDpDGwg=s64",
      "userId": "00099025771461358222"
     },
     "user_tz": -330
    },
    "id": "qSQPu-xB8ODq",
    "outputId": "97bec42f-b425-41f6-9029-e9fc9c6cd824"
   },
   "outputs": [
    {
     "data": {
      "text/plain": [
       "['Kalyan', 'Badulla', 'Rakesh']"
      ]
     },
     "execution_count": 10,
     "metadata": {
      "tags": []
     },
     "output_type": "execute_result"
    }
   ],
   "source": [
    "List2=[\"Kalyan\",\"Badulla\",\"Rakesh\"]\n",
    "List2"
   ]
  },
  {
   "cell_type": "code",
   "execution_count": null,
   "metadata": {
    "colab": {
     "base_uri": "https://localhost:8080/",
     "height": 34
    },
    "executionInfo": {
     "elapsed": 1363,
     "status": "ok",
     "timestamp": 1601099198309,
     "user": {
      "displayName": "Rakesh Yelledi",
      "photoUrl": "https://lh3.googleusercontent.com/a-/AOh14GhL0f0OnSUlJdw_Rjqjs39Vckx1i-jNk2ShDpDGwg=s64",
      "userId": "00099025771461358222"
     },
     "user_tz": -330
    },
    "id": "mBgIVzL98a-F",
    "outputId": "097bd71f-3de8-4a79-f830-e283a6cbcf4a"
   },
   "outputs": [
    {
     "name": "stdout",
     "output_type": "stream",
     "text": [
      "['Ram', 1, 'Sam', 2, 'Nayan', 3]\n"
     ]
    }
   ],
   "source": [
    "list3=[\"Ram\",1,\"Sam\",2,\"Nayan\",3]\n",
    "print(list3)"
   ]
  },
  {
   "cell_type": "code",
   "execution_count": null,
   "metadata": {
    "colab": {
     "base_uri": "https://localhost:8080/",
     "height": 35
    },
    "executionInfo": {
     "elapsed": 1339,
     "status": "ok",
     "timestamp": 1601099286167,
     "user": {
      "displayName": "Rakesh Yelledi",
      "photoUrl": "https://lh3.googleusercontent.com/a-/AOh14GhL0f0OnSUlJdw_Rjqjs39Vckx1i-jNk2ShDpDGwg=s64",
      "userId": "00099025771461358222"
     },
     "user_tz": -330
    },
    "id": "s1VK44358und",
    "outputId": "a096ba89-1e5e-4c42-bd74-3de2c070cd6d"
   },
   "outputs": [
    {
     "data": {
      "application/vnd.google.colaboratory.intrinsic+json": {
       "type": "string"
      },
      "text/plain": [
       "'Sam'"
      ]
     },
     "execution_count": 12,
     "metadata": {
      "tags": []
     },
     "output_type": "execute_result"
    }
   ],
   "source": [
    "# Indexing\n",
    "list3[2]"
   ]
  },
  {
   "cell_type": "code",
   "execution_count": null,
   "metadata": {
    "colab": {
     "base_uri": "https://localhost:8080/",
     "height": 35
    },
    "executionInfo": {
     "elapsed": 1363,
     "status": "ok",
     "timestamp": 1601099315268,
     "user": {
      "displayName": "Rakesh Yelledi",
      "photoUrl": "https://lh3.googleusercontent.com/a-/AOh14GhL0f0OnSUlJdw_Rjqjs39Vckx1i-jNk2ShDpDGwg=s64",
      "userId": "00099025771461358222"
     },
     "user_tz": -330
    },
    "id": "vf1IvwkF9EEs",
    "outputId": "1b3fc1df-ca59-4d0c-b0ae-57ace2438005"
   },
   "outputs": [
    {
     "data": {
      "application/vnd.google.colaboratory.intrinsic+json": {
       "type": "string"
      },
      "text/plain": [
       "'Nayan'"
      ]
     },
     "execution_count": 14,
     "metadata": {
      "tags": []
     },
     "output_type": "execute_result"
    }
   ],
   "source": [
    "list3[4]"
   ]
  },
  {
   "cell_type": "code",
   "execution_count": null,
   "metadata": {
    "colab": {
     "base_uri": "https://localhost:8080/",
     "height": 34
    },
    "executionInfo": {
     "elapsed": 1389,
     "status": "ok",
     "timestamp": 1601099364005,
     "user": {
      "displayName": "Rakesh Yelledi",
      "photoUrl": "https://lh3.googleusercontent.com/a-/AOh14GhL0f0OnSUlJdw_Rjqjs39Vckx1i-jNk2ShDpDGwg=s64",
      "userId": "00099025771461358222"
     },
     "user_tz": -330
    },
    "id": "0uRXKGGk9Itv",
    "outputId": "7922c75b-cc14-4ae3-a499-fabb7a94d147"
   },
   "outputs": [
    {
     "data": {
      "text/plain": [
       "3"
      ]
     },
     "execution_count": 16,
     "metadata": {
      "tags": []
     },
     "output_type": "execute_result"
    }
   ],
   "source": [
    "list3[5]"
   ]
  },
  {
   "cell_type": "code",
   "execution_count": null,
   "metadata": {
    "colab": {
     "base_uri": "https://localhost:8080/",
     "height": 34
    },
    "executionInfo": {
     "elapsed": 1447,
     "status": "ok",
     "timestamp": 1601099465420,
     "user": {
      "displayName": "Rakesh Yelledi",
      "photoUrl": "https://lh3.googleusercontent.com/a-/AOh14GhL0f0OnSUlJdw_Rjqjs39Vckx1i-jNk2ShDpDGwg=s64",
      "userId": "00099025771461358222"
     },
     "user_tz": -330
    },
    "id": "ca3gQ0lz9UlZ",
    "outputId": "f4b057d8-e4ed-473e-c268-fb89d6b97626"
   },
   "outputs": [
    {
     "data": {
      "text/plain": [
       "3"
      ]
     },
     "execution_count": 18,
     "metadata": {
      "tags": []
     },
     "output_type": "execute_result"
    }
   ],
   "source": [
    "list3[-1]"
   ]
  },
  {
   "cell_type": "code",
   "execution_count": null,
   "metadata": {
    "colab": {
     "base_uri": "https://localhost:8080/",
     "height": 35
    },
    "executionInfo": {
     "elapsed": 1401,
     "status": "ok",
     "timestamp": 1601099483197,
     "user": {
      "displayName": "Rakesh Yelledi",
      "photoUrl": "https://lh3.googleusercontent.com/a-/AOh14GhL0f0OnSUlJdw_Rjqjs39Vckx1i-jNk2ShDpDGwg=s64",
      "userId": "00099025771461358222"
     },
     "user_tz": -330
    },
    "id": "81lx2s7N9g-8",
    "outputId": "9d027e14-7f9a-4a11-c1de-7ee67c325aff"
   },
   "outputs": [
    {
     "data": {
      "application/vnd.google.colaboratory.intrinsic+json": {
       "type": "string"
      },
      "text/plain": [
       "'Sam'"
      ]
     },
     "execution_count": 19,
     "metadata": {
      "tags": []
     },
     "output_type": "execute_result"
    }
   ],
   "source": [
    "list3[-4]"
   ]
  },
  {
   "cell_type": "code",
   "execution_count": null,
   "metadata": {
    "colab": {
     "base_uri": "https://localhost:8080/",
     "height": 34
    },
    "executionInfo": {
     "elapsed": 1569,
     "status": "ok",
     "timestamp": 1601099618174,
     "user": {
      "displayName": "Rakesh Yelledi",
      "photoUrl": "https://lh3.googleusercontent.com/a-/AOh14GhL0f0OnSUlJdw_Rjqjs39Vckx1i-jNk2ShDpDGwg=s64",
      "userId": "00099025771461358222"
     },
     "user_tz": -330
    },
    "id": "cymhYpfL90KE",
    "outputId": "a7502e7a-0e8a-47ec-b381-8076939473a8"
   },
   "outputs": [
    {
     "data": {
      "text/plain": [
       "[3, 'Nayan', 2, 'Sam', 1, 'Ram']"
      ]
     },
     "execution_count": 20,
     "metadata": {
      "tags": []
     },
     "output_type": "execute_result"
    }
   ],
   "source": [
    "list3[::-1]"
   ]
  },
  {
   "cell_type": "code",
   "execution_count": null,
   "metadata": {
    "colab": {
     "base_uri": "https://localhost:8080/",
     "height": 34
    },
    "executionInfo": {
     "elapsed": 1370,
     "status": "ok",
     "timestamp": 1601099956698,
     "user": {
      "displayName": "Rakesh Yelledi",
      "photoUrl": "https://lh3.googleusercontent.com/a-/AOh14GhL0f0OnSUlJdw_Rjqjs39Vckx1i-jNk2ShDpDGwg=s64",
      "userId": "00099025771461358222"
     },
     "user_tz": -330
    },
    "id": "Glc49cON_g5o",
    "outputId": "f35a23a3-0458-4c88-c83e-1d940e810fe0"
   },
   "outputs": [
    {
     "data": {
      "text/plain": [
       "['Ram', 1, 'Sam', 2, 'Nayan', 3]"
      ]
     },
     "execution_count": 32,
     "metadata": {
      "tags": []
     },
     "output_type": "execute_result"
    }
   ],
   "source": [
    "list3"
   ]
  },
  {
   "cell_type": "code",
   "execution_count": null,
   "metadata": {
    "colab": {
     "base_uri": "https://localhost:8080/",
     "height": 34
    },
    "executionInfo": {
     "elapsed": 1383,
     "status": "ok",
     "timestamp": 1601100047112,
     "user": {
      "displayName": "Rakesh Yelledi",
      "photoUrl": "https://lh3.googleusercontent.com/a-/AOh14GhL0f0OnSUlJdw_Rjqjs39Vckx1i-jNk2ShDpDGwg=s64",
      "userId": "00099025771461358222"
     },
     "user_tz": -330
    },
    "id": "8Yg8c4tc-VEu",
    "outputId": "c5facdaf-7b5f-4815-a92b-8005bd2e39d8"
   },
   "outputs": [
    {
     "data": {
      "text/plain": [
       "['Ram', 1, 'Sam', 2]"
      ]
     },
     "execution_count": 39,
     "metadata": {
      "tags": []
     },
     "output_type": "execute_result"
    }
   ],
   "source": [
    "list3[:-2]"
   ]
  },
  {
   "cell_type": "code",
   "execution_count": null,
   "metadata": {
    "colab": {
     "base_uri": "https://localhost:8080/",
     "height": 34
    },
    "executionInfo": {
     "elapsed": 1362,
     "status": "ok",
     "timestamp": 1601100465268,
     "user": {
      "displayName": "Rakesh Yelledi",
      "photoUrl": "https://lh3.googleusercontent.com/a-/AOh14GhL0f0OnSUlJdw_Rjqjs39Vckx1i-jNk2ShDpDGwg=s64",
      "userId": "00099025771461358222"
     },
     "user_tz": -330
    },
    "id": "6Z9xrigM-rA2",
    "outputId": "75c70806-de22-43fd-e62a-e591c9484dc3"
   },
   "outputs": [
    {
     "data": {
      "text/plain": [
       "['Sam', 1]"
      ]
     },
     "execution_count": 59,
     "metadata": {
      "tags": []
     },
     "output_type": "execute_result"
    }
   ],
   "source": [
    "list3[2:0:-1]"
   ]
  },
  {
   "cell_type": "code",
   "execution_count": null,
   "metadata": {
    "colab": {
     "base_uri": "https://localhost:8080/",
     "height": 34
    },
    "executionInfo": {
     "elapsed": 1347,
     "status": "ok",
     "timestamp": 1601100427200,
     "user": {
      "displayName": "Rakesh Yelledi",
      "photoUrl": "https://lh3.googleusercontent.com/a-/AOh14GhL0f0OnSUlJdw_Rjqjs39Vckx1i-jNk2ShDpDGwg=s64",
      "userId": "00099025771461358222"
     },
     "user_tz": -330
    },
    "id": "V105_lgHAIg_",
    "outputId": "c49ffd91-255e-40c4-a99a-d506f1a8fda8"
   },
   "outputs": [
    {
     "data": {
      "text/plain": [
       "['Nayan', 1]"
      ]
     },
     "execution_count": 55,
     "metadata": {
      "tags": []
     },
     "output_type": "execute_result"
    }
   ],
   "source": [
    "list3[4::-3]"
   ]
  },
  {
   "cell_type": "code",
   "execution_count": null,
   "metadata": {
    "colab": {
     "base_uri": "https://localhost:8080/",
     "height": 34
    },
    "executionInfo": {
     "elapsed": 800,
     "status": "ok",
     "timestamp": 1601100493087,
     "user": {
      "displayName": "Rakesh Yelledi",
      "photoUrl": "https://lh3.googleusercontent.com/a-/AOh14GhL0f0OnSUlJdw_Rjqjs39Vckx1i-jNk2ShDpDGwg=s64",
      "userId": "00099025771461358222"
     },
     "user_tz": -330
    },
    "id": "NJvevG63Bao-",
    "outputId": "559744ff-52dd-489a-e46d-cbe6b6f00579"
   },
   "outputs": [
    {
     "data": {
      "text/plain": [
       "[1, 'Sam']"
      ]
     },
     "execution_count": 60,
     "metadata": {
      "tags": []
     },
     "output_type": "execute_result"
    }
   ],
   "source": [
    "demo=list3[1:3]\n",
    "demo"
   ]
  },
  {
   "cell_type": "code",
   "execution_count": null,
   "metadata": {
    "colab": {
     "base_uri": "https://localhost:8080/",
     "height": 34
    },
    "executionInfo": {
     "elapsed": 1337,
     "status": "ok",
     "timestamp": 1601100530376,
     "user": {
      "displayName": "Rakesh Yelledi",
      "photoUrl": "https://lh3.googleusercontent.com/a-/AOh14GhL0f0OnSUlJdw_Rjqjs39Vckx1i-jNk2ShDpDGwg=s64",
      "userId": "00099025771461358222"
     },
     "user_tz": -330
    },
    "id": "jbHvPr-dBqrj",
    "outputId": "a6f27804-af33-43cc-8b4d-8d333a38cba4"
   },
   "outputs": [
    {
     "data": {
      "text/plain": [
       "['Sam', 1]"
      ]
     },
     "execution_count": 61,
     "metadata": {
      "tags": []
     },
     "output_type": "execute_result"
    }
   ],
   "source": [
    "demo[::-1]"
   ]
  },
  {
   "cell_type": "code",
   "execution_count": null,
   "metadata": {
    "colab": {
     "base_uri": "https://localhost:8080/",
     "height": 34
    },
    "executionInfo": {
     "elapsed": 1637,
     "status": "ok",
     "timestamp": 1601100562169,
     "user": {
      "displayName": "Rakesh Yelledi",
      "photoUrl": "https://lh3.googleusercontent.com/a-/AOh14GhL0f0OnSUlJdw_Rjqjs39Vckx1i-jNk2ShDpDGwg=s64",
      "userId": "00099025771461358222"
     },
     "user_tz": -330
    },
    "id": "dtdx9tJ8B4aQ",
    "outputId": "21a29b42-70fb-4979-bb2b-5ae74f1ced88"
   },
   "outputs": [
    {
     "data": {
      "text/plain": [
       "['Ram', 1, 'Sam', 2, 'Nayan', 3]"
      ]
     },
     "execution_count": 62,
     "metadata": {
      "tags": []
     },
     "output_type": "execute_result"
    }
   ],
   "source": [
    "list3"
   ]
  },
  {
   "cell_type": "code",
   "execution_count": null,
   "metadata": {
    "colab": {
     "base_uri": "https://localhost:8080/",
     "height": 34
    },
    "executionInfo": {
     "elapsed": 2127,
     "status": "ok",
     "timestamp": 1601100636373,
     "user": {
      "displayName": "Rakesh Yelledi",
      "photoUrl": "https://lh3.googleusercontent.com/a-/AOh14GhL0f0OnSUlJdw_Rjqjs39Vckx1i-jNk2ShDpDGwg=s64",
      "userId": "00099025771461358222"
     },
     "user_tz": -330
    },
    "id": "s4TgjIN1Bz1e",
    "outputId": "ba02850a-ebf5-4566-c0ce-62a2405d6c40"
   },
   "outputs": [
    {
     "data": {
      "text/plain": [
       "['Ram', 1, 'Sam', 2, 'Nayan', 3, 'Mounika']"
      ]
     },
     "execution_count": 64,
     "metadata": {
      "tags": []
     },
     "output_type": "execute_result"
    }
   ],
   "source": [
    "list3.append(\"Mounika\")\n",
    "list3"
   ]
  },
  {
   "cell_type": "code",
   "execution_count": null,
   "metadata": {
    "colab": {
     "base_uri": "https://localhost:8080/",
     "height": 34
    },
    "executionInfo": {
     "elapsed": 1357,
     "status": "ok",
     "timestamp": 1601102212678,
     "user": {
      "displayName": "Rakesh Yelledi",
      "photoUrl": "https://lh3.googleusercontent.com/a-/AOh14GhL0f0OnSUlJdw_Rjqjs39Vckx1i-jNk2ShDpDGwg=s64",
      "userId": "00099025771461358222"
     },
     "user_tz": -330
    },
    "id": "DB8iD9pKCE0a",
    "outputId": "49ce3fde-c840-4d59-ac0a-0171839cf99d"
   },
   "outputs": [
    {
     "data": {
      "text/plain": [
       "[1, 2, 3, 'a', 'b', 'c']"
      ]
     },
     "execution_count": 89,
     "metadata": {
      "tags": []
     },
     "output_type": "execute_result"
    }
   ],
   "source": [
    "list4=[1,2,3]\n",
    "list6=[\"a\",\"b\",\"c\"]\n",
    "list4.extend(list6)\n",
    "list4"
   ]
  },
  {
   "cell_type": "code",
   "execution_count": null,
   "metadata": {
    "colab": {
     "base_uri": "https://localhost:8080/",
     "height": 34
    },
    "executionInfo": {
     "elapsed": 1311,
     "status": "ok",
     "timestamp": 1601101545093,
     "user": {
      "displayName": "Rakesh Yelledi",
      "photoUrl": "https://lh3.googleusercontent.com/a-/AOh14GhL0f0OnSUlJdw_Rjqjs39Vckx1i-jNk2ShDpDGwg=s64",
      "userId": "00099025771461358222"
     },
     "user_tz": -330
    },
    "id": "MLi49cAkCqc7",
    "outputId": "45fd3d79-1115-413d-e4ca-4cbbebc6f328"
   },
   "outputs": [
    {
     "data": {
      "text/plain": [
       "[1, 2, 3, 'a', 'b', 'c']"
      ]
     },
     "execution_count": 67,
     "metadata": {
      "tags": []
     },
     "output_type": "execute_result"
    }
   ],
   "source": [
    "list5"
   ]
  },
  {
   "cell_type": "code",
   "execution_count": null,
   "metadata": {
    "colab": {
     "base_uri": "https://localhost:8080/",
     "height": 34
    },
    "executionInfo": {
     "elapsed": 1349,
     "status": "ok",
     "timestamp": 1601101598111,
     "user": {
      "displayName": "Rakesh Yelledi",
      "photoUrl": "https://lh3.googleusercontent.com/a-/AOh14GhL0f0OnSUlJdw_Rjqjs39Vckx1i-jNk2ShDpDGwg=s64",
      "userId": "00099025771461358222"
     },
     "user_tz": -330
    },
    "id": "jFZ_LcoWFrkQ",
    "outputId": "fa5484e4-b801-4e0e-b653-6e8a34ee8ff0"
   },
   "outputs": [
    {
     "data": {
      "text/plain": [
       "[1, 2, 3, 'a', 'b']"
      ]
     },
     "execution_count": 68,
     "metadata": {
      "tags": []
     },
     "output_type": "execute_result"
    }
   ],
   "source": [
    "list5.remove(\"c\")\n",
    "list5"
   ]
  },
  {
   "cell_type": "code",
   "execution_count": null,
   "metadata": {
    "colab": {
     "base_uri": "https://localhost:8080/",
     "height": 34
    },
    "executionInfo": {
     "elapsed": 1377,
     "status": "ok",
     "timestamp": 1601101811731,
     "user": {
      "displayName": "Rakesh Yelledi",
      "photoUrl": "https://lh3.googleusercontent.com/a-/AOh14GhL0f0OnSUlJdw_Rjqjs39Vckx1i-jNk2ShDpDGwg=s64",
      "userId": "00099025771461358222"
     },
     "user_tz": -330
    },
    "id": "BbF9LZ4gGDGC",
    "outputId": "b53327a1-ddf4-46ce-8843-f932ff3f07f0"
   },
   "outputs": [
    {
     "data": {
      "text/plain": [
       "[]"
      ]
     },
     "execution_count": 75,
     "metadata": {
      "tags": []
     },
     "output_type": "execute_result"
    }
   ],
   "source": [
    "list5.clear()\n",
    "list5"
   ]
  },
  {
   "cell_type": "code",
   "execution_count": null,
   "metadata": {
    "colab": {
     "base_uri": "https://localhost:8080/",
     "height": 197
    },
    "executionInfo": {
     "elapsed": 2405,
     "status": "error",
     "timestamp": 1601102081425,
     "user": {
      "displayName": "Rakesh Yelledi",
      "photoUrl": "https://lh3.googleusercontent.com/a-/AOh14GhL0f0OnSUlJdw_Rjqjs39Vckx1i-jNk2ShDpDGwg=s64",
      "userId": "00099025771461358222"
     },
     "user_tz": -330
    },
    "id": "NyL0MulCGfGD",
    "outputId": "d8cbd387-0674-4854-8f8a-fa8c6e9ed39b"
   },
   "outputs": [
    {
     "ename": "NameError",
     "evalue": "ignored",
     "output_type": "error",
     "traceback": [
      "\u001b[0;31m---------------------------------------------------------------------------\u001b[0m",
      "\u001b[0;31mNameError\u001b[0m                                 Traceback (most recent call last)",
      "\u001b[0;32m<ipython-input-84-6b1609890692>\u001b[0m in \u001b[0;36m<module>\u001b[0;34m()\u001b[0m\n\u001b[0;32m----> 1\u001b[0;31m \u001b[0;32mdel\u001b[0m \u001b[0mlist5\u001b[0m\u001b[0;34m\u001b[0m\u001b[0;34m\u001b[0m\u001b[0m\n\u001b[0m\u001b[1;32m      2\u001b[0m \u001b[0;34m\u001b[0m\u001b[0m\n\u001b[1;32m      3\u001b[0m \u001b[0mlist5\u001b[0m\u001b[0;34m\u001b[0m\u001b[0;34m\u001b[0m\u001b[0m\n",
      "\u001b[0;31mNameError\u001b[0m: name 'list5' is not defined"
     ]
    }
   ],
   "source": [
    "del list5\n",
    "\n",
    "list5"
   ]
  },
  {
   "cell_type": "code",
   "execution_count": null,
   "metadata": {
    "colab": {
     "base_uri": "https://localhost:8080/",
     "height": 34
    },
    "executionInfo": {
     "elapsed": 1407,
     "status": "ok",
     "timestamp": 1601102237576,
     "user": {
      "displayName": "Rakesh Yelledi",
      "photoUrl": "https://lh3.googleusercontent.com/a-/AOh14GhL0f0OnSUlJdw_Rjqjs39Vckx1i-jNk2ShDpDGwg=s64",
      "userId": "00099025771461358222"
     },
     "user_tz": -330
    },
    "id": "8nVwSDHYGz7E",
    "outputId": "0cf0ae39-33b1-476a-ff26-8ba938fe6df2"
   },
   "outputs": [
    {
     "data": {
      "text/plain": [
       "[1, 2, 3, 'Aravind', 'a', 'b', 'c']"
      ]
     },
     "execution_count": 91,
     "metadata": {
      "tags": []
     },
     "output_type": "execute_result"
    }
   ],
   "source": [
    "list4.insert(3,\"Aravind\")\n",
    "list4"
   ]
  },
  {
   "cell_type": "code",
   "execution_count": null,
   "metadata": {
    "colab": {
     "base_uri": "https://localhost:8080/",
     "height": 34
    },
    "executionInfo": {
     "elapsed": 1417,
     "status": "ok",
     "timestamp": 1601102260606,
     "user": {
      "displayName": "Rakesh Yelledi",
      "photoUrl": "https://lh3.googleusercontent.com/a-/AOh14GhL0f0OnSUlJdw_Rjqjs39Vckx1i-jNk2ShDpDGwg=s64",
      "userId": "00099025771461358222"
     },
     "user_tz": -330
    },
    "id": "QVLy6UaaHN48",
    "outputId": "ecf868b0-6a44-47ac-9424-01ec48bc2cf3"
   },
   "outputs": [
    {
     "data": {
      "text/plain": [
       "[1, 2, 3, 'Aravind', 'a', 'b', 'c', 'a', 'b', 'c']"
      ]
     },
     "execution_count": 93,
     "metadata": {
      "tags": []
     },
     "output_type": "execute_result"
    }
   ],
   "source": [
    "list7=list4+list6\n",
    "list7"
   ]
  },
  {
   "cell_type": "code",
   "execution_count": null,
   "metadata": {
    "colab": {
     "base_uri": "https://localhost:8080/",
     "height": 136
    },
    "executionInfo": {
     "elapsed": 1342,
     "status": "ok",
     "timestamp": 1601102265302,
     "user": {
      "displayName": "Rakesh Yelledi",
      "photoUrl": "https://lh3.googleusercontent.com/a-/AOh14GhL0f0OnSUlJdw_Rjqjs39Vckx1i-jNk2ShDpDGwg=s64",
      "userId": "00099025771461358222"
     },
     "user_tz": -330
    },
    "id": "0p3Dxjp2HoqB",
    "outputId": "6c950ad3-20a7-47aa-b1c7-7eb293fd39fe"
   },
   "outputs": [
    {
     "name": "stdout",
     "output_type": "stream",
     "text": [
      "1\n",
      "2\n",
      "3\n",
      "Aravind\n",
      "a\n",
      "b\n",
      "c\n"
     ]
    }
   ],
   "source": [
    "for data in list4:\n",
    "  print(data)"
   ]
  },
  {
   "cell_type": "code",
   "execution_count": null,
   "metadata": {
    "colab": {
     "base_uri": "https://localhost:8080/",
     "height": 34
    },
    "executionInfo": {
     "elapsed": 1666,
     "status": "ok",
     "timestamp": 1601102401557,
     "user": {
      "displayName": "Rakesh Yelledi",
      "photoUrl": "https://lh3.googleusercontent.com/a-/AOh14GhL0f0OnSUlJdw_Rjqjs39Vckx1i-jNk2ShDpDGwg=s64",
      "userId": "00099025771461358222"
     },
     "user_tz": -330
    },
    "id": "PB5nPuKoIFda",
    "outputId": "5903f9e1-8353-4dff-fdbe-f162a31fd360"
   },
   "outputs": [
    {
     "name": "stdout",
     "output_type": "stream",
     "text": [
      "['Rakesh', 'Vamsi', 'Madhavi']\n"
     ]
    }
   ],
   "source": [
    "employee=[\"sam\",\"mounika\",\"bhanu\"]\n",
    "manager=[\"Rakesh\",\"Vamsi\",\"Madhavi\"]\n",
    "for emp in manager:\n",
    "  employee.append(emp)\n",
    "\n",
    "print(manager)  "
   ]
  },
  {
   "cell_type": "code",
   "execution_count": null,
   "metadata": {
    "colab": {
     "base_uri": "https://localhost:8080/",
     "height": 34
    },
    "executionInfo": {
     "elapsed": 1445,
     "status": "ok",
     "timestamp": 1601102497460,
     "user": {
      "displayName": "Rakesh Yelledi",
      "photoUrl": "https://lh3.googleusercontent.com/a-/AOh14GhL0f0OnSUlJdw_Rjqjs39Vckx1i-jNk2ShDpDGwg=s64",
      "userId": "00099025771461358222"
     },
     "user_tz": -330
    },
    "id": "5Kag-bOQI4aT",
    "outputId": "60d71a2f-f424-4f10-8361-b3834ffe0f54"
   },
   "outputs": [
    {
     "name": "stdout",
     "output_type": "stream",
     "text": [
      "he is in manager list\n"
     ]
    }
   ],
   "source": [
    "if \"Vamsi\" in manager:\n",
    "  print(\"he is in manager list\")\n",
    "else:\n",
    "  print(\"he is not manager list\")"
   ]
  },
  {
   "cell_type": "code",
   "execution_count": null,
   "metadata": {
    "colab": {
     "base_uri": "https://localhost:8080/",
     "height": 34
    },
    "executionInfo": {
     "elapsed": 871,
     "status": "ok",
     "timestamp": 1601102560371,
     "user": {
      "displayName": "Rakesh Yelledi",
      "photoUrl": "https://lh3.googleusercontent.com/a-/AOh14GhL0f0OnSUlJdw_Rjqjs39Vckx1i-jNk2ShDpDGwg=s64",
      "userId": "00099025771461358222"
     },
     "user_tz": -330
    },
    "id": "IKu9nCYgJUDX",
    "outputId": "aa3c7dc7-fccf-4a92-acb0-9af2985bcbc4"
   },
   "outputs": [
    {
     "data": {
      "text/plain": [
       "[1, 2, 3, 'Aravind', 'a', 'b', 'c', 'a', 'b', 'c', 'a', 'b', 'c']"
      ]
     },
     "execution_count": 98,
     "metadata": {
      "tags": []
     },
     "output_type": "execute_result"
    }
   ],
   "source": [
    "list7.extend(list6)\n",
    "list7"
   ]
  },
  {
   "cell_type": "code",
   "execution_count": null,
   "metadata": {
    "colab": {
     "base_uri": "https://localhost:8080/",
     "height": 34
    },
    "executionInfo": {
     "elapsed": 1526,
     "status": "ok",
     "timestamp": 1601102625049,
     "user": {
      "displayName": "Rakesh Yelledi",
      "photoUrl": "https://lh3.googleusercontent.com/a-/AOh14GhL0f0OnSUlJdw_Rjqjs39Vckx1i-jNk2ShDpDGwg=s64",
      "userId": "00099025771461358222"
     },
     "user_tz": -330
    },
    "id": "oJ16_a5kJjik",
    "outputId": "1c8c6866-c83f-4417-887a-7678352b94c0"
   },
   "outputs": [
    {
     "data": {
      "text/plain": [
       "0"
      ]
     },
     "execution_count": 101,
     "metadata": {
      "tags": []
     },
     "output_type": "execute_result"
    }
   ],
   "source": [
    "list7.count(\"1\")"
   ]
  },
  {
   "cell_type": "code",
   "execution_count": null,
   "metadata": {
    "id": "4aY6jOrGJqKC"
   },
   "outputs": [],
   "source": [
    "# In a given list i want to get last 2nd higest value\n",
    "Example:\n",
    "\n",
    "i/p:  321321 3213 121 3 3244234 332443\n",
    "o/p:  332443"
   ]
  },
  {
   "cell_type": "code",
   "execution_count": null,
   "metadata": {
    "colab": {
     "base_uri": "https://localhost:8080/",
     "height": 34
    },
    "executionInfo": {
     "elapsed": 1405,
     "status": "ok",
     "timestamp": 1601103408011,
     "user": {
      "displayName": "Rakesh Yelledi",
      "photoUrl": "https://lh3.googleusercontent.com/a-/AOh14GhL0f0OnSUlJdw_Rjqjs39Vckx1i-jNk2ShDpDGwg=s64",
      "userId": "00099025771461358222"
     },
     "user_tz": -330
    },
    "id": "LlcHXV8mKjeZ",
    "outputId": "7bc9ebcd-7aea-4549-8fa9-e6ea5bb661e6"
   },
   "outputs": [
    {
     "data": {
      "text/plain": [
       "[321321, 3213, 121, 3, 3244234, 332443]"
      ]
     },
     "execution_count": 108,
     "metadata": {
      "tags": []
     },
     "output_type": "execute_result"
    }
   ],
   "source": [
    "list2=[321321,3213,121,3,3244234,332443]\n",
    "list2"
   ]
  },
  {
   "cell_type": "code",
   "execution_count": null,
   "metadata": {
    "colab": {
     "base_uri": "https://localhost:8080/",
     "height": 34
    },
    "executionInfo": {
     "elapsed": 1496,
     "status": "ok",
     "timestamp": 1601103712048,
     "user": {
      "displayName": "Rakesh Yelledi",
      "photoUrl": "https://lh3.googleusercontent.com/a-/AOh14GhL0f0OnSUlJdw_Rjqjs39Vckx1i-jNk2ShDpDGwg=s64",
      "userId": "00099025771461358222"
     },
     "user_tz": -330
    },
    "id": "FocSWptRLNOp",
    "outputId": "26bc245f-c776-4c0b-98c9-51caa781be40"
   },
   "outputs": [
    {
     "name": "stdout",
     "output_type": "stream",
     "text": [
      "the largest number is : 4586792\n"
     ]
    }
   ],
   "source": [
    "list2=[321321,3213,121,3,3244234,332443,4586792,568]\n",
    "print(\"the largest number is :\",max(list2))"
   ]
  },
  {
   "cell_type": "code",
   "execution_count": 2,
   "metadata": {
    "colab": {
     "base_uri": "https://localhost:8080/",
     "height": 153
    },
    "executionInfo": {
     "elapsed": 30563,
     "status": "ok",
     "timestamp": 1601104772250,
     "user": {
      "displayName": "Rakesh Yelledi",
      "photoUrl": "https://lh3.googleusercontent.com/a-/AOh14GhL0f0OnSUlJdw_Rjqjs39Vckx1i-jNk2ShDpDGwg=s64",
      "userId": "00099025771461358222"
     },
     "user_tz": -330
    },
    "id": "Wu-zIFkULWsO",
    "outputId": "721362d6-71a2-4957-ff51-48b9024a46d6"
   },
   "outputs": [
    {
     "name": "stdout",
     "output_type": "stream",
     "text": [
      "enter how many marks are there4\n",
      "Enter marks :25\n",
      "Enter marks :26\n",
      "Enter marks :75\n",
      "Enter marks :3258\n",
      "Entered marks are [25, 26, 75, 3258]\n"
     ]
    },
    {
     "data": {
      "text/plain": [
       "25"
      ]
     },
     "execution_count": 2,
     "metadata": {},
     "output_type": "execute_result"
    }
   ],
   "source": [
    "# In a given list i want to get last 2nd higest value\n",
    "marks=[]\n",
    "marks_size=int(input(\"enter how many marks are there\"))\n",
    "for data in range(marks_size):\n",
    "    marks_list=int(input(\"Enter marks :\"))\n",
    "    marks.append(marks_list)\n",
    "\n",
    "print(\"Entered marks are\",marks)\n",
    "def secondhigest(marks):\n",
    "    marks.sort()\n",
    "    return marks[-4]\n",
    "\n",
    "secondhigest(marks)  "
   ]
  },
  {
   "cell_type": "code",
   "execution_count": null,
   "metadata": {
    "id": "-6nBfh5aPB4i"
   },
   "outputs": [],
   "source": []
  }
 ],
 "metadata": {
  "colab": {
   "authorship_tag": "ABX9TyOV5zplx8V01Cvm5TV24kcW",
   "name": "Day12(26-09-2020).ipynb",
   "provenance": []
  },
  "kernelspec": {
   "display_name": "Python 3",
   "language": "python",
   "name": "python3"
  },
  "language_info": {
   "codemirror_mode": {
    "name": "ipython",
    "version": 3
   },
   "file_extension": ".py",
   "mimetype": "text/x-python",
   "name": "python",
   "nbconvert_exporter": "python",
   "pygments_lexer": "ipython3",
   "version": "3.7.4"
  }
 },
 "nbformat": 4,
 "nbformat_minor": 1
}
