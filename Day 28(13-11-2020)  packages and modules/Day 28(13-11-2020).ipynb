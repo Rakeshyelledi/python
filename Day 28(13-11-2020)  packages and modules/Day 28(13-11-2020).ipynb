{
 "cells": [
  {
   "cell_type": "markdown",
   "metadata": {},
   "source": [
    "## Packages and modules\n",
    "## Inheritance"
   ]
  },
  {
   "cell_type": "markdown",
   "metadata": {},
   "source": [
    "### Packages and modules\n",
    "#### Packages: \n",
    "- Package is folder\n",
    "- A package is a collection of modules\n",
    "#### modules:\n",
    "- module is a file\n",
    "- which is .py file\n",
    "#### types of  modules:\n",
    "- predefined\n",
    "- user defined\n",
    "\n",
    "##### to import packages  and modules we have "
   ]
  },
  {
   "cell_type": "code",
   "execution_count": null,
   "metadata": {},
   "outputs": [
    {
     "name": "stdout",
     "output_type": "stream",
     "text": [
      "\n",
      "Welcome to Python 3.7's help utility!\n",
      "\n",
      "If this is your first time using Python, you should definitely check out\n",
      "the tutorial on the Internet at https://docs.python.org/3.7/tutorial/.\n",
      "\n",
      "Enter the name of any module, keyword, or topic to get help on writing\n",
      "Python programs and using Python modules.  To quit this help utility and\n",
      "return to the interpreter, just type \"quit\".\n",
      "\n",
      "To get a list of available modules, keywords, symbols, or topics, type\n",
      "\"modules\", \"keywords\", \"symbols\", or \"topics\".  Each module also comes\n",
      "with a one-line summary of what it does; to list the modules whose name\n",
      "or summary contain a given string such as \"spam\", type \"modules spam\".\n",
      "\n",
      "help> modules\n",
      "\n",
      "Please wait a moment while I gather a list of all available modules...\n",
      "\n"
     ]
    },
    {
     "name": "stderr",
     "output_type": "stream",
     "text": [
      "c:\\users\\user\\appdata\\local\\programs\\python\\python37\\lib\\site-packages\\IPython\\kernel\\__init__.py:13: ShimWarning: The `IPython.kernel` package has been deprecated since IPython 4.0.You should import from ipykernel or jupyter_client instead.\n",
      "  \"You should import from ipykernel or jupyter_client instead.\", ShimWarning)\n",
      "c:\\users\\user\\appdata\\local\\programs\\python\\python37\\lib\\pkgutil.py:107: VisibleDeprecationWarning: zmq.eventloop.minitornado is deprecated in pyzmq 14.0 and will be removed.\n",
      "    Install tornado itself to use zmq with the tornado IOLoop.\n",
      "    \n",
      "  yield from walk_packages(path, info.name+'.', onerror)\n"
     ]
    },
    {
     "name": "stdout",
     "output_type": "stream",
     "text": [
      "IPython             brain_hashlib       jupyter_console     stat\n",
      "__future__          brain_http          jupyter_core        statistics\n",
      "_abc                brain_io            jupyterlab_pygments storemagic\n",
      "_ast                brain_mechanize     keyword             string\n",
      "_asyncio            brain_multiprocessing lazy_object_proxy   stringprep\n",
      "_bisect             brain_namedtuple_enum lib2to3             struct\n",
      "_blake2             brain_nose          linecache           subprocess\n",
      "_bootlocale         brain_numpy_core_fromnumeric locale              sunau\n",
      "_bz2                brain_numpy_core_function_base logging             symbol\n",
      "_cffi_backend       brain_numpy_core_multiarray lzma                sympyprinting\n",
      "_codecs             brain_numpy_core_numeric macpath             symtable\n",
      "_codecs_cn          brain_numpy_core_numerictypes mailbox             sys\n",
      "_codecs_hk          brain_numpy_core_umath mailcap             sysconfig\n",
      "_codecs_iso2022     brain_numpy_ndarray markupsafe          tabnanny\n",
      "_codecs_jp          brain_numpy_random_mtrand marshal             tarfile\n",
      "_codecs_kr          brain_numpy_utils   math                telnetlib\n",
      "_codecs_tw          brain_pkg_resources mccabe              tempfile\n",
      "_collections        brain_pytest        mimetypes           terminado\n",
      "_collections_abc    brain_qt            mistune             test\n",
      "_compat_pickle      brain_random        mmap                testpath\n",
      "_compression        brain_re            mmapfile            tests\n",
      "_contextvars        brain_responses     mmsystem            textwrap\n",
      "_csv                brain_scipy_signal  modulefinder        this\n",
      "_ctypes             brain_six           msilib              threading\n",
      "_ctypes_test        brain_ssl           msvcrt              time\n",
      "_datetime           brain_subprocess    multiprocessing     timeit\n",
      "_decimal            brain_threading     nbclient            timer\n",
      "_dummy_thread       brain_typing        nbconvert           tkinter\n",
      "_elementtree        brain_uuid          nbformat            token\n",
      "_functools          builtins            nest_asyncio        tokenize\n",
      "_hashlib            bz2                 netbios             toml\n",
      "_heapq              cProfile            netrc               tornado\n",
      "_imp                calendar            nntplib             trace\n",
      "_io                 cffi                notebook            traceback\n",
      "_json               cgi                 nt                  tracemalloc\n",
      "_locale             cgitb               ntpath              traitlets\n",
      "_lsprof             chunk               ntsecuritycon       tty\n",
      "_lzma               cmath               nturl2path          turtle\n",
      "_markupbase         cmd                 numbers             turtledemo\n",
      "_md5                code                odbc                typed_ast\n",
      "_msi                codecs              opcode              types\n",
      "_multibytecodec     codeop              operator            typing\n",
      "_multiprocessing    collections         optparse            unicodedata\n",
      "_opcode             colorama            os                  unittest\n",
      "_operator           colorsys            packaging           urllib\n",
      "_osx_support        commctrl            pandocfilters       uu\n",
      "_overlapped         compileall          parser              uuid\n",
      "_pickle             concurrent          parso               venv\n",
      "_py_abc             configparser        pathlib             warnings\n",
      "_pydecimal          contextlib          pdb                 wave\n",
      "_pyio               contextvars         perfmon             wcwidth\n",
      "_pyrsistent_version copy                pickle              weakref\n",
      "_queue              copyreg             pickleshare         webbrowser\n",
      "_random             crypt               pickletools         webencodings\n",
      "_sha1               csv                 pip                 widgetsnbextension\n",
      "_sha256             ctypes              pipes               win2kras\n",
      "_sha3               curses              pkg_resources       win32api\n",
      "_sha512             cythonmagic         pkgutil             win32clipboard\n",
      "_signal             dataclasses         platform            win32com\n",
      "_sitebuiltins       datetime            plistlib            win32con\n",
      "_socket             dateutil            poplib              win32console\n",
      "_sqlite3            dbi                 posixpath           win32cred\n",
      "_sre                dbm                 pprint              win32crypt\n",
      "_ssl                dde                 profile             win32cryptcon\n",
      "_stat               decimal             prometheus_client   win32event\n",
      "_string             decorator           prompt_toolkit      win32evtlog\n",
      "_strptime           defusedxml          pstats              win32evtlogutil\n",
      "_struct             difflib             pty                 win32file\n",
      "_symtable           dis                 py_compile          win32gui\n",
      "_testbuffer         distutils           pyclbr              win32gui_struct\n",
      "_testcapi           doctest             pycparser           win32help\n",
      "_testconsole        dummy_threading     pydoc               win32inet\n",
      "_testimportmultiple easy_install        pydoc_data          win32inetcon\n",
      "_testmultiphase     email               pyexpat             win32job\n",
      "_thread             encodings           pygments            win32lz\n",
      "_threading_local    ensurepip           pylint              win32net\n",
      "_tkinter            entrypoints         pyparsing           win32netcon\n",
      "_tracemalloc        enum                pyrsistent          win32pdh\n",
      "_warnings           errno               pythoncom           win32pdhquery\n",
      "_weakref            faulthandler        pywin               win32pdhutil\n",
      "_weakrefset         filecmp             pywin32_bootstrap   win32pipe\n",
      "_win32sysloader     fileinput           pywin32_testutil    win32print\n",
      "_winapi             fnmatch             pywintypes          win32process\n",
      "_winxptheme         formatter           qtconsole           win32profile\n",
      "abc                 fractions           qtpy                win32ras\n",
      "adodbapi            ftplib              queue               win32rcparser\n",
      "afxres              functools           quopri              win32security\n",
      "aifc                gc                  random              win32service\n",
      "antigravity         genericpath         rasutil             win32serviceutil\n",
      "argon2              getopt              re                  win32timezone\n",
      "argparse            getpass             regcheck            win32trace\n",
      "array               gettext             regutil             win32traceutil\n",
      "ast                 glob                reprlib             win32transaction\n",
      "astroid             gzip                rlcompleter         win32ts\n",
      "async_generator     hashlib             rmagic              win32ui\n",
      "asynchat            heapq               runpy               win32uiole\n",
      "asyncio             hmac                sched               win32verstamp\n",
      "asyncore            html                secrets             win32wnet\n",
      "atexit              http                select              winerror\n",
      "attr                idlelib             selectors           winioctlcon\n",
      "audioop             imaplib             send2trash          winnt\n",
      "autoreload          imghdr              servicemanager      winperf\n",
      "backcall            imp                 setuptools          winpty\n",
      "base64              importlib           shelve              winreg\n",
      "bdb                 importlib_metadata  shlex               winsound\n",
      "binascii            inspect             shutil              winxpgui\n",
      "binhex              io                  signal              winxptheme\n",
      "bisect              ipaddress           site                wrapt\n",
      "bleach              ipykernel           six                 wsgiref\n",
      "brain_argparse      ipykernel_launcher  smtpd               xdrlib\n",
      "brain_attrs         ipython_genutils    smtplib             xml\n",
      "brain_boto3         ipywidgets          sndhdr              xmlrpc\n",
      "brain_builtin_inference isapi               socket              xxsubtype\n",
      "brain_collections   isort               socketserver        zipapp\n",
      "brain_crypt         itertools           sqlite3             zipfile\n",
      "brain_curses        jedi                sre_compile         zipimport\n",
      "brain_dataclasses   jinja2              sre_constants       zipp\n",
      "brain_dateutil      json                sre_parse           zlib\n",
      "brain_fstrings      jsonschema          ssl                 zmq\n",
      "brain_functools     jupyter             sspi                \n",
      "brain_gi            jupyter_client      sspicon             \n",
      "\n",
      "Enter any module name to get more help.  Or, type \"modules spam\" to search\n",
      "for modules whose name or summary contain the string \"spam\".\n",
      "\n"
     ]
    }
   ],
   "source": [
    "help()"
   ]
  },
  {
   "cell_type": "code",
   "execution_count": 5,
   "metadata": {},
   "outputs": [],
   "source": [
    "import math"
   ]
  },
  {
   "cell_type": "code",
   "execution_count": 6,
   "metadata": {},
   "outputs": [
    {
     "name": "stdout",
     "output_type": "stream",
     "text": [
      "['__doc__', '__loader__', '__name__', '__package__', '__spec__', 'acos', 'acosh', 'asin', 'asinh', 'atan', 'atan2', 'atanh', 'ceil', 'copysign', 'cos', 'cosh', 'degrees', 'e', 'erf', 'erfc', 'exp', 'expm1', 'fabs', 'factorial', 'floor', 'fmod', 'frexp', 'fsum', 'gamma', 'gcd', 'hypot', 'inf', 'isclose', 'isfinite', 'isinf', 'isnan', 'ldexp', 'lgamma', 'log', 'log10', 'log1p', 'log2', 'modf', 'nan', 'pi', 'pow', 'radians', 'remainder', 'sin', 'sinh', 'sqrt', 'tan', 'tanh', 'tau', 'trunc']\n"
     ]
    }
   ],
   "source": [
    "print(dir(math))"
   ]
  },
  {
   "cell_type": "code",
   "execution_count": 7,
   "metadata": {},
   "outputs": [
    {
     "data": {
      "text/plain": [
       "'This module provides access to the mathematical functions\\ndefined by the C standard.'"
      ]
     },
     "execution_count": 7,
     "metadata": {},
     "output_type": "execute_result"
    }
   ],
   "source": [
    "math.__doc__"
   ]
  },
  {
   "cell_type": "code",
   "execution_count": 8,
   "metadata": {},
   "outputs": [
    {
     "data": {
      "text/plain": [
       "8.0"
      ]
     },
     "execution_count": 8,
     "metadata": {},
     "output_type": "execute_result"
    }
   ],
   "source": [
    "math.pow(2,3)"
   ]
  },
  {
   "cell_type": "code",
   "execution_count": 9,
   "metadata": {},
   "outputs": [
    {
     "data": {
      "text/plain": [
       "120"
      ]
     },
     "execution_count": 9,
     "metadata": {},
     "output_type": "execute_result"
    }
   ],
   "source": [
    "math.factorial(5)"
   ]
  },
  {
   "cell_type": "code",
   "execution_count": 10,
   "metadata": {},
   "outputs": [
    {
     "data": {
      "text/plain": [
       "3.141592653589793"
      ]
     },
     "execution_count": 10,
     "metadata": {},
     "output_type": "execute_result"
    }
   ],
   "source": [
    "math.pi"
   ]
  },
  {
   "cell_type": "markdown",
   "metadata": {},
   "source": [
    "#### user defined modules :"
   ]
  },
  {
   "cell_type": "code",
   "execution_count": 11,
   "metadata": {},
   "outputs": [],
   "source": [
    "# 1) importing module from package\n",
    "# from Package import mymath\n",
    "# 2) import all modules from package\n",
    "# from package import *\n",
    "# 3) import one or two modules from package\n",
    "# from package import mymath, mymath1, mymath2"
   ]
  },
  {
   "cell_type": "code",
   "execution_count": 12,
   "metadata": {},
   "outputs": [
    {
     "data": {
      "text/plain": [
       "['__doc__',\n",
       " '__file__',\n",
       " '__loader__',\n",
       " '__name__',\n",
       " '__package__',\n",
       " '__path__',\n",
       " '__spec__',\n",
       " 'mymath']"
      ]
     },
     "execution_count": 12,
     "metadata": {},
     "output_type": "execute_result"
    }
   ],
   "source": [
    "dir(Package)"
   ]
  },
  {
   "cell_type": "code",
   "execution_count": 13,
   "metadata": {},
   "outputs": [
    {
     "data": {
      "text/plain": [
       "['__builtins__',\n",
       " '__cached__',\n",
       " '__doc__',\n",
       " '__file__',\n",
       " '__loader__',\n",
       " '__name__',\n",
       " '__package__',\n",
       " '__spec__',\n",
       " 'add',\n",
       " 'mul',\n",
       " 'sub']"
      ]
     },
     "execution_count": 13,
     "metadata": {},
     "output_type": "execute_result"
    }
   ],
   "source": [
    "dir(mymath)"
   ]
  },
  {
   "cell_type": "code",
   "execution_count": 14,
   "metadata": {},
   "outputs": [
    {
     "data": {
      "text/plain": [
       "68"
      ]
     },
     "execution_count": 14,
     "metadata": {},
     "output_type": "execute_result"
    }
   ],
   "source": [
    "mymath.add(23, 45)"
   ]
  },
  {
   "cell_type": "code",
   "execution_count": 20,
   "metadata": {},
   "outputs": [],
   "source": [
    "## i want to import finctions from modules\n",
    "from Package.mymath import add, sub, mul"
   ]
  },
  {
   "cell_type": "code",
   "execution_count": 19,
   "metadata": {},
   "outputs": [
    {
     "data": {
      "text/plain": [
       "57"
      ]
     },
     "execution_count": 19,
     "metadata": {},
     "output_type": "execute_result"
    }
   ],
   "source": [
    "add(12,45)"
   ]
  },
  {
   "cell_type": "code",
   "execution_count": 21,
   "metadata": {},
   "outputs": [
    {
     "data": {
      "text/plain": [
       "22"
      ]
     },
     "execution_count": 21,
     "metadata": {},
     "output_type": "execute_result"
    }
   ],
   "source": [
    "sub(56, 34)"
   ]
  },
  {
   "cell_type": "code",
   "execution_count": 22,
   "metadata": {},
   "outputs": [
    {
     "data": {
      "text/plain": [
       "1035"
      ]
     },
     "execution_count": 22,
     "metadata": {},
     "output_type": "execute_result"
    }
   ],
   "source": [
    "mul(45,23)"
   ]
  },
  {
   "cell_type": "code",
   "execution_count": 1,
   "metadata": {},
   "outputs": [],
   "source": [
    "from Package.mymath import Arith as Art"
   ]
  },
  {
   "cell_type": "code",
   "execution_count": 2,
   "metadata": {},
   "outputs": [
    {
     "data": {
      "text/plain": [
       "['__class__',\n",
       " '__delattr__',\n",
       " '__dict__',\n",
       " '__dir__',\n",
       " '__doc__',\n",
       " '__eq__',\n",
       " '__format__',\n",
       " '__ge__',\n",
       " '__getattribute__',\n",
       " '__gt__',\n",
       " '__hash__',\n",
       " '__init__',\n",
       " '__init_subclass__',\n",
       " '__le__',\n",
       " '__lt__',\n",
       " '__module__',\n",
       " '__ne__',\n",
       " '__new__',\n",
       " '__reduce__',\n",
       " '__reduce_ex__',\n",
       " '__repr__',\n",
       " '__setattr__',\n",
       " '__sizeof__',\n",
       " '__str__',\n",
       " '__subclasshook__',\n",
       " '__weakref__',\n",
       " 'add',\n",
       " 'exp',\n",
       " 'mul',\n",
       " 'sub']"
      ]
     },
     "execution_count": 2,
     "metadata": {},
     "output_type": "execute_result"
    }
   ],
   "source": [
    "dir(Art)"
   ]
  },
  {
   "cell_type": "code",
   "execution_count": 3,
   "metadata": {},
   "outputs": [
    {
     "data": {
      "text/plain": [
       "68"
      ]
     },
     "execution_count": 3,
     "metadata": {},
     "output_type": "execute_result"
    }
   ],
   "source": [
    "obj = Art\n",
    "obj.add(23, 45)"
   ]
  },
  {
   "cell_type": "code",
   "execution_count": 4,
   "metadata": {},
   "outputs": [
    {
     "data": {
      "text/plain": [
       "4"
      ]
     },
     "execution_count": 4,
     "metadata": {},
     "output_type": "execute_result"
    }
   ],
   "source": [
    "obj.exp(2, 2)"
   ]
  },
  {
   "cell_type": "markdown",
   "metadata": {},
   "source": [
    "### Inheritance:\n",
    "- deriving new class from already existing class\n",
    "- aquiring properties from base class to derived class\n",
    "- code reusability and readability\n",
    "- Types of inheritance:\n",
    "   - Single Inheritance.\n",
    "   - Multiple Inheritance.\n",
    "   - Multilevel Inheritance.\n",
    "   - Hierarchical Inheritance.\n",
    "   - Hybrid Inheritance."
   ]
  },
  {
   "cell_type": "code",
   "execution_count": 7,
   "metadata": {},
   "outputs": [],
   "source": [
    "class A:\n",
    "    name1 = \"A\"\n",
    "    age1 = 10\n",
    "    def msg():\n",
    "        print(\"I am from class A\")\n",
    "        \n",
    "class B(A):\n",
    "    name = \"B\"\n",
    "    age = 2\n",
    "    \n",
    "    def msg1():\n",
    "        print(\"i am from class b\")"
   ]
  },
  {
   "cell_type": "code",
   "execution_count": 8,
   "metadata": {},
   "outputs": [],
   "source": [
    "obj = B"
   ]
  },
  {
   "cell_type": "code",
   "execution_count": 9,
   "metadata": {},
   "outputs": [
    {
     "data": {
      "text/plain": [
       "'A'"
      ]
     },
     "execution_count": 9,
     "metadata": {},
     "output_type": "execute_result"
    }
   ],
   "source": [
    "obj.name1"
   ]
  },
  {
   "cell_type": "code",
   "execution_count": 11,
   "metadata": {},
   "outputs": [
    {
     "name": "stdout",
     "output_type": "stream",
     "text": [
      "I am from class A\n"
     ]
    }
   ],
   "source": [
    "obj.msg()"
   ]
  },
  {
   "cell_type": "code",
   "execution_count": 12,
   "metadata": {},
   "outputs": [
    {
     "data": {
      "text/plain": [
       "'B'"
      ]
     },
     "execution_count": 12,
     "metadata": {},
     "output_type": "execute_result"
    }
   ],
   "source": [
    "obj.name"
   ]
  },
  {
   "cell_type": "code",
   "execution_count": 15,
   "metadata": {},
   "outputs": [
    {
     "name": "stdout",
     "output_type": "stream",
     "text": [
      "i am from class b\n"
     ]
    }
   ],
   "source": [
    "obj.msg1()"
   ]
  },
  {
   "cell_type": "code",
   "execution_count": 18,
   "metadata": {},
   "outputs": [],
   "source": [
    "class A:\n",
    "    name1 = \"A\"\n",
    "    age1 = 10\n",
    "    def msg():\n",
    "        print(\"I am from class A\")\n",
    "        \n",
    "class C:\n",
    "    name2 = \"C\"\n",
    "    age1 = 10\n",
    "    def msg2():\n",
    "        print(\"I am from class A\")\n",
    "        \n",
    "class B(A,C):\n",
    "    name = \"B\"\n",
    "    age = 2\n",
    "    \n",
    "    def msg1():\n",
    "        print(\"i am from class b\")\n",
    "        "
   ]
  },
  {
   "cell_type": "code",
   "execution_count": 19,
   "metadata": {},
   "outputs": [
    {
     "data": {
      "text/plain": [
       "'C'"
      ]
     },
     "execution_count": 19,
     "metadata": {},
     "output_type": "execute_result"
    }
   ],
   "source": [
    "obj = B\n",
    "obj.name2"
   ]
  },
  {
   "cell_type": "code",
   "execution_count": 20,
   "metadata": {},
   "outputs": [
    {
     "ename": "SyntaxError",
     "evalue": "invalid syntax (<ipython-input-20-9e387787c834>, line 1)",
     "output_type": "error",
     "traceback": [
      "\u001b[1;36m  File \u001b[1;32m\"<ipython-input-20-9e387787c834>\"\u001b[1;36m, line \u001b[1;32m1\u001b[0m\n\u001b[1;33m    class c(A)\u001b[0m\n\u001b[1;37m              ^\u001b[0m\n\u001b[1;31mSyntaxError\u001b[0m\u001b[1;31m:\u001b[0m invalid syntax\n"
     ]
    }
   ],
   "source": [
    "class c(A)\n",
    "class B(A)"
   ]
  },
  {
   "cell_type": "code",
   "execution_count": null,
   "metadata": {},
   "outputs": [],
   "source": []
  }
 ],
 "metadata": {
  "kernelspec": {
   "display_name": "Python 3",
   "language": "python",
   "name": "python3"
  },
  "language_info": {
   "codemirror_mode": {
    "name": "ipython",
    "version": 3
   },
   "file_extension": ".py",
   "mimetype": "text/x-python",
   "name": "python",
   "nbconvert_exporter": "python",
   "pygments_lexer": "ipython3",
   "version": "3.7.4"
  }
 },
 "nbformat": 4,
 "nbformat_minor": 4
}
