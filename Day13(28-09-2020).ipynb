{
 "cells": [
  {
   "cell_type": "code",
   "execution_count": 1,
   "metadata": {},
   "outputs": [],
   "source": [
    "# Dynamic list creation\n",
    "# li = [] or li = list()\n",
    "#input: Enter a range: 5\n",
    "#[1,2,3,4,5]"
   ]
  },
  {
   "cell_type": "code",
   "execution_count": 4,
   "metadata": {},
   "outputs": [
    {
     "name": "stdout",
     "output_type": "stream",
     "text": [
      "enter the length of list :3\n",
      "enter a value1\n",
      "enter a value2\n",
      "enter a value3\n",
      "['1', '2', '3']\n"
     ]
    }
   ],
   "source": [
    "li = []\n",
    "n = input(\"enter the length of list :\")\n",
    "for i in range(0, int(n)):\n",
    "    k=input(\"enter a value\")\n",
    "    li.append(k)\n",
    "\n",
    "print (li)"
   ]
  },
  {
   "cell_type": "code",
   "execution_count": 5,
   "metadata": {},
   "outputs": [],
   "source": [
    "# li = [12,34,44,55,75,23,456,232]\n",
    "# output: [12,34,44,456,232]\n",
    "# print sum([12,34,44,456,232])"
   ]
  },
  {
   "cell_type": "code",
   "execution_count": 2,
   "metadata": {},
   "outputs": [
    {
     "name": "stdout",
     "output_type": "stream",
     "text": [
      "[12, 34, 44, 456, 232]\n",
      "778\n"
     ]
    }
   ],
   "source": [
    "li = [12,34,44,55,75,23,456,232]\n",
    "eli = []\n",
    "for val in li:\n",
    "    if val%2==0:\n",
    "        eli.append(val)\n",
    "print(eli)\n",
    "#sm=0\n",
    "#for i in eli:\n",
    "#    sm+=i\n",
    "#print(sm)\n",
    "print(sum(eli))"
   ]
  },
  {
   "cell_type": "markdown",
   "metadata": {},
   "source": [
    "### Remove the duplicate elements in list\n",
    "ex:[11,22,11,25,36,36,11,25]\n",
    "\n",
    "output: [11,22,25,36]"
   ]
  },
  {
   "cell_type": "code",
   "execution_count": 12,
   "metadata": {},
   "outputs": [
    {
     "name": "stdout",
     "output_type": "stream",
     "text": [
      "[11, 22, 25, 36]\n"
     ]
    }
   ],
   "source": [
    "li = [11,22,11,25,36,36,11,25]\n",
    "li2 =  []\n",
    "for i in li:\n",
    "    if i not in li2:\n",
    "        li2.append(i)\n",
    "print(li2)"
   ]
  },
  {
   "cell_type": "code",
   "execution_count": 29,
   "metadata": {},
   "outputs": [
    {
     "data": {
      "text/plain": [
       "[2, 4, 6, 8, 9, 7, 5, 3, 1]"
      ]
     },
     "execution_count": 29,
     "metadata": {},
     "output_type": "execute_result"
    }
   ],
   "source": [
    "# print the even number in assending order and print the odd number in desending order in a list\n",
    "\n",
    "li = [1,2,3,4,5,6,7,8,9]\n",
    "evenlist = []\n",
    "oddlist = []\n",
    "\n",
    "for i in li:\n",
    "    if(i%2==0):\n",
    "        evenlist.append(i)\n",
    "    else:\n",
    "        oddlist.append(i)\n",
    "#evenlist+oddlist [::-1]\n"
   ]
  },
  {
   "cell_type": "code",
   "execution_count": 33,
   "metadata": {},
   "outputs": [],
   "source": [
    "oddlist.sort(reverse=True)"
   ]
  },
  {
   "cell_type": "code",
   "execution_count": 34,
   "metadata": {},
   "outputs": [
    {
     "data": {
      "text/plain": [
       "[9, 7, 5, 3, 1]"
      ]
     },
     "execution_count": 34,
     "metadata": {},
     "output_type": "execute_result"
    }
   ],
   "source": [
    "oddlist"
   ]
  },
  {
   "cell_type": "code",
   "execution_count": 36,
   "metadata": {},
   "outputs": [],
   "source": [
    "evenlist.sort(reverse=True)"
   ]
  },
  {
   "cell_type": "code",
   "execution_count": 37,
   "metadata": {},
   "outputs": [
    {
     "data": {
      "text/plain": [
       "[8, 6, 4, 2]"
      ]
     },
     "execution_count": 37,
     "metadata": {},
     "output_type": "execute_result"
    }
   ],
   "source": [
    "evenlist"
   ]
  },
  {
   "cell_type": "code",
   "execution_count": 42,
   "metadata": {},
   "outputs": [],
   "source": [
    "### to print the min and second min in a list\n",
    "\n",
    "[10,2,23,5,60]\n",
    "\n",
    "li = [10,2,23,5,60]\n",
    "li.sort()"
   ]
  },
  {
   "cell_type": "code",
   "execution_count": 43,
   "metadata": {},
   "outputs": [
    {
     "name": "stdout",
     "output_type": "stream",
     "text": [
      "min value is 2\n",
      "second min value is 5\n"
     ]
    }
   ],
   "source": [
    "print(\"min value is\",li[0])\n",
    "print(\"second min value is\",li[1])"
   ]
  },
  {
   "cell_type": "code",
   "execution_count": null,
   "metadata": {},
   "outputs": [],
   "source": []
  }
 ],
 "metadata": {
  "kernelspec": {
   "display_name": "Python 3",
   "language": "python",
   "name": "python3"
  },
  "language_info": {
   "codemirror_mode": {
    "name": "ipython",
    "version": 3
   },
   "file_extension": ".py",
   "mimetype": "text/x-python",
   "name": "python",
   "nbconvert_exporter": "python",
   "pygments_lexer": "ipython3",
   "version": "3.7.4"
  }
 },
 "nbformat": 4,
 "nbformat_minor": 4
}
