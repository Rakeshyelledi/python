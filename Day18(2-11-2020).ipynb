{
 "cells": [
  {
   "cell_type": "code",
   "execution_count": 1,
   "metadata": {},
   "outputs": [],
   "source": [
    "# find number of characters in a given string without using len()\n",
    "# you have to read strings from user i.e python programing\n",
    "# count = 18"
   ]
  },
  {
   "cell_type": "code",
   "execution_count": 21,
   "metadata": {},
   "outputs": [
    {
     "name": "stdout",
     "output_type": "stream",
     "text": [
      "Enter a string: ra\n",
      "Length of the string is: 3\n"
     ]
    }
   ],
   "source": [
    "# find number of characters in a given string without using len()\n",
    "\n",
    "string = input(\"Enter a string: \")\n",
    "\n",
    "count = 0\n",
    "for s in string:\n",
    "      count = count+1\n",
    "print(\"Length of the string is:\", count)"
   ]
  },
  {
   "cell_type": "code",
   "execution_count": null,
   "metadata": {},
   "outputs": [],
   "source": [
    "# task:\n",
    "# 1) count of each character in a given string\n",
    "# 2) words count,characters count and vowles count also using functions"
   ]
  },
  {
   "cell_type": "code",
   "execution_count": 51,
   "metadata": {},
   "outputs": [
    {
     "name": "stdout",
     "output_type": "stream",
     "text": [
      "enter the stringraaa\n",
      "a => 3\n",
      "r => 1\n"
     ]
    }
   ],
   "source": [
    "# count of each character in a given string\n",
    "\n",
    "var = input(\"enter the string\")\n",
    "\n",
    "#print(set(var))\n",
    "for  a in set(var):\n",
    "    if a in var:\n",
    "            print(a,\"=>\",var.count(a))"
   ]
  },
  {
   "cell_type": "code",
   "execution_count": 55,
   "metadata": {},
   "outputs": [
    {
     "name": "stdout",
     "output_type": "stream",
     "text": [
      "daaaabc"
     ]
    }
   ],
   "source": [
    "mn = \"daaaabc\"\n",
    "for j in list(mn):\n",
    "    print(j,end=\"\")"
   ]
  },
  {
   "cell_type": "code",
   "execution_count": 56,
   "metadata": {},
   "outputs": [
    {
     "name": "stdout",
     "output_type": "stream",
     "text": [
      "r => 1\n",
      "a => 1\n",
      "k => 1\n",
      "e => 3\n",
      "s => 1\n",
      "h => 1\n",
      "  => 1\n",
      "y => 1\n",
      "l => 2\n",
      "d => 1\n",
      "i => 1\n"
     ]
    }
   ],
   "source": [
    "m = \"rakesh yelledi\"\n",
    "dq = {}\n",
    "for k in m:\n",
    "    dq[k] = m.count(k)\n",
    "for i,j in dq.items():\n",
    "    print(i,\"=>\",j)"
   ]
  },
  {
   "cell_type": "markdown",
   "metadata": {},
   "source": [
    "# Tasks:\n",
    "\n",
    " - write a program to count the factors of given number\n",
    " - write a program to find the second largest factor of given numbers\n",
    " - write a program to find the second smallest factor of given numbers\n",
    " - write a program to all the prime numbers between 1 to 100 numbers\n",
    " - write a program to find sum of all the prime numbers between 1 to 100      numbers\n",
    " - write a program to find the largest and smallest prime numbers"
   ]
  },
  {
   "cell_type": "code",
   "execution_count": 7,
   "metadata": {},
   "outputs": [
    {
     "name": "stdout",
     "output_type": "stream",
     "text": [
      "enter a number25\n",
      "Factors of 25 = [1, 5, 25]\n"
     ]
    }
   ],
   "source": [
    "# write a program to count the factors of given number\n",
    "\n",
    "num=int(input(\"enter a number\"))\n",
    "\n",
    "factors=[]\n",
    "\n",
    "for i in range(1,num+1):\n",
    "    \n",
    "    if num%i==0:\n",
    "        \n",
    "        factors.append(i)\n",
    "\n",
    "print (\"Factors of {} = {}\".format(num,factors))"
   ]
  },
  {
   "cell_type": "code",
   "execution_count": 10,
   "metadata": {},
   "outputs": [
    {
     "name": "stdout",
     "output_type": "stream",
     "text": [
      "Enter a number15\n",
      "factorsof given number is [1, 3, 5, 15]\n",
      "second largest factor is 5\n",
      "sum of factors is 24\n",
      "average of factors : 6\n"
     ]
    }
   ],
   "source": [
    "# write a program to find the second largest factor of given numbers\n",
    "\n",
    "def numofFactors(n):\n",
    "    for i in range(1,n+1):\n",
    "        if n%i==0:\n",
    "            #print(i,end=\",\")\n",
    "            facts.append(i)\n",
    "    return facts\n",
    "\n",
    "facts = []\n",
    "num = int(input(\"Enter a number\"))\n",
    "rs = numofFactors(num)\n",
    "print(\"factorsof given number is\",rs)\n",
    "print(\"second largest factor is\",rs[-2])\n",
    "# sum of factors a given number\n",
    "print(\"sum of factors is\",sum(rs))\n",
    "print(\"average of factors :\",sum(rs)//len(rs))"
   ]
  },
  {
   "cell_type": "code",
   "execution_count": 3,
   "metadata": {},
   "outputs": [
    {
     "name": "stdout",
     "output_type": "stream",
     "text": [
      "Enter a number 15\n",
      "Second smallest number is  3\n"
     ]
    }
   ],
   "source": [
    "# write a program to find the second smallest factor of given numbers\n",
    "\n",
    "n = int(input(\"Enter a number \"))\n",
    "count=0\n",
    "d=[]\n",
    "for i in range(1,n+1):\n",
    "    if(n%i==0):\n",
    "        count+=1\n",
    "        d.append(i)\n",
    "print(\"Second smallest number is \",d[1])"
   ]
  },
  {
   "cell_type": "code",
   "execution_count": 1,
   "metadata": {},
   "outputs": [
    {
     "name": "stdout",
     "output_type": "stream",
     "text": [
      "2 3 5 7 11 13 17 19 23 29 31 37 41 43 47 53 59 61 67 71 73 79 83 89 97 "
     ]
    }
   ],
   "source": [
    "#write a program to all the prime numbers between 1 to 100 numbers\n",
    "\n",
    "a=100\n",
    "for n in range(2,a+1):  \n",
    "    k=0  \n",
    "    for i in range(2,n//2+1):  \n",
    "        if(n%i==0):  \n",
    "            k=k+1  \n",
    "    if(k<=0):  \n",
    "        print(n, end = \" \");  "
   ]
  },
  {
   "cell_type": "code",
   "execution_count": 22,
   "metadata": {},
   "outputs": [
    {
     "name": "stdout",
     "output_type": "stream",
     "text": [
      "Find sum of prime numbers upto : 10\n",
      "\n",
      "Sum of all prime numbers upto 10 : 15\n"
     ]
    }
   ],
   "source": [
    "# write a program to find sum of all the prime numbers between 1 to 100      numbers\n",
    "\n",
    "a = int(input(\"Find sum of prime numbers upto : \"))\n",
    "\n",
    "sum = 0\n",
    "\n",
    "for n in range(2,a+1):\n",
    "\n",
    "    i = 2\n",
    "    \n",
    "    for i in range(2,n):\n",
    "        if (int(n % i) == 0):\n",
    "            i = n\n",
    "            break;\n",
    "            \n",
    "    if i is not n:\n",
    "        sum += n\n",
    "\n",
    "print(\"\\nSum of all prime numbers upto\",a, \":\", sum)"
   ]
  },
  {
   "cell_type": "code",
   "execution_count": 15,
   "metadata": {},
   "outputs": [
    {
     "name": "stdout",
     "output_type": "stream",
     "text": [
      "[2, 3, 5, 7, 11, 13, 17, 19, 23, 29, 31, 37, 41, 43, 47, 53, 59, 61, 67, 71, 73, 79, 83, 89, 97]\n",
      "25\n",
      "1060\n",
      "97\n",
      "2\n"
     ]
    }
   ],
   "source": [
    "#write a program to find the largest and smallest prime numbers\n",
    "\n",
    "def isprime(n):\n",
    "    if n==1:\n",
    "        return False\n",
    "    \n",
    "    for i in range(2,n):\n",
    "        if n%i==0:\n",
    "            return False\n",
    "    return True\n",
    "primes = []\n",
    "for j in range(1,100):\n",
    "    rs = isprime(j)\n",
    "    if rs:\n",
    "        #print(j,end=\",\")\n",
    "        primes.append(j)\n",
    "        \n",
    "print(primes)\n",
    "#count of primes\n",
    "print(len(primes))\n",
    "#sum of primes between 1 to 100\n",
    "print(sum(primes))\n",
    "print(max(primes))\n",
    "print(min(primes))"
   ]
  },
  {
   "cell_type": "code",
   "execution_count": null,
   "metadata": {},
   "outputs": [],
   "source": []
  },
  {
   "cell_type": "code",
   "execution_count": null,
   "metadata": {},
   "outputs": [],
   "source": []
  }
 ],
 "metadata": {
  "kernelspec": {
   "display_name": "Python 3",
   "language": "python",
   "name": "python3"
  },
  "language_info": {
   "codemirror_mode": {
    "name": "ipython",
    "version": 3
   },
   "file_extension": ".py",
   "mimetype": "text/x-python",
   "name": "python",
   "nbconvert_exporter": "python",
   "pygments_lexer": "ipython3",
   "version": "3.7.4"
  }
 },
 "nbformat": 4,
 "nbformat_minor": 4
}
