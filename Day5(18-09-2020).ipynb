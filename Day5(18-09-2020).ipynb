{
 "cells": [
  {
   "cell_type": "markdown",
   "metadata": {},
   "source": [
    "## Keywords\n",
    " - Assignment Operators\n",
    " - Membership\n",
    " - Identity"
   ]
  },
  {
   "cell_type": "markdown",
   "metadata": {},
   "source": [
    "### Assignment operators:\n",
    " - +=,-=,*=/=,//=,**=,%=,<=,>=,=="
   ]
  },
  {
   "cell_type": "code",
   "execution_count": 1,
   "metadata": {},
   "outputs": [],
   "source": [
    "a=10\n"
   ]
  },
  {
   "cell_type": "code",
   "execution_count": 2,
   "metadata": {},
   "outputs": [
    {
     "data": {
      "text/plain": [
       "10"
      ]
     },
     "execution_count": 2,
     "metadata": {},
     "output_type": "execute_result"
    }
   ],
   "source": [
    "a"
   ]
  },
  {
   "cell_type": "markdown",
   "metadata": {},
   "source": [
    " ### Membership operators\n",
    " - By using this operators we will identify a perticular element belongs to a group or not.\n",
    " - They are in, not in."
   ]
  },
  {
   "cell_type": "code",
   "execution_count": 6,
   "metadata": {},
   "outputs": [
    {
     "data": {
      "text/plain": [
       "True"
      ]
     },
     "execution_count": 6,
     "metadata": {},
     "output_type": "execute_result"
    }
   ],
   "source": [
    "arr = [1,2,3,4,5,6]\n",
    "inp=3\n",
    "inp in arr"
   ]
  },
  {
   "cell_type": "code",
   "execution_count": 7,
   "metadata": {},
   "outputs": [
    {
     "data": {
      "text/plain": [
       "False"
      ]
     },
     "execution_count": 7,
     "metadata": {},
     "output_type": "execute_result"
    }
   ],
   "source": [
    "s1 = 'Rakesh yelledi'\n",
    "'rakesh' in s1"
   ]
  },
  {
   "cell_type": "code",
   "execution_count": 8,
   "metadata": {},
   "outputs": [
    {
     "data": {
      "text/plain": [
       "True"
      ]
     },
     "execution_count": 8,
     "metadata": {},
     "output_type": "execute_result"
    }
   ],
   "source": [
    "bits = '001001000111'\n",
    "'00'in bits"
   ]
  },
  {
   "cell_type": "code",
   "execution_count": 9,
   "metadata": {},
   "outputs": [
    {
     "data": {
      "text/plain": [
       "True"
      ]
     },
     "execution_count": 9,
     "metadata": {},
     "output_type": "execute_result"
    }
   ],
   "source": [
    "'000' in bits"
   ]
  },
  {
   "cell_type": "markdown",
   "metadata": {},
   "source": [
    "### Identity operators:\n",
    " - By using this operators we compare values.\n",
    " - They are is,isnot."
   ]
  },
  {
   "cell_type": "markdown",
   "metadata": {},
   "source": [
    "## Conditional control statements:\n",
    "  - It controls the flow of  execution based on condition.\n",
    "  - For that we have few different types of statements:\n",
    "      - Conditional statement\n",
    "      - Looping statement.\n",
    "      - Jump statement "
   ]
  },
  {
   "cell_type": "markdown",
   "metadata": {},
   "source": [
    "### Conditional statements:\n",
    " - if\n",
    "     - if(condition):\n",
    "            statement\n",
    " - if else\n",
    " - nested\n",
    " - else if ladder"
   ]
  },
  {
   "cell_type": "code",
   "execution_count": 12,
   "metadata": {},
   "outputs": [
    {
     "name": "stdout",
     "output_type": "stream",
     "text": [
      "true\n"
     ]
    }
   ],
   "source": [
    "if (5<6):\n",
    "    print('true')"
   ]
  },
  {
   "cell_type": "code",
   "execution_count": 13,
   "metadata": {},
   "outputs": [
    {
     "name": "stdout",
     "output_type": "stream",
     "text": [
      "true\n",
      "5 is small\n"
     ]
    }
   ],
   "source": [
    "if (5<6):\n",
    "    print('true')\n",
    "    print('5 is small')\n",
    "    "
   ]
  },
  {
   "cell_type": "code",
   "execution_count": 14,
   "metadata": {},
   "outputs": [
    {
     "name": "stdout",
     "output_type": "stream",
     "text": [
      "true\n",
      "5 is small\n",
      "Im out of if \n"
     ]
    }
   ],
   "source": [
    "if (5<6):\n",
    "    print('true')\n",
    "    print('5 is small')\n",
    "print('Im out of if ')"
   ]
  },
  {
   "cell_type": "code",
   "execution_count": 15,
   "metadata": {},
   "outputs": [
    {
     "name": "stdout",
     "output_type": "stream",
     "text": [
      "Im out of if \n"
     ]
    }
   ],
   "source": [
    "if (51<6):\n",
    "    print('im inside if')\n",
    "    print('5 is small')\n",
    "print('Im out of if ')"
   ]
  },
  {
   "cell_type": "code",
   "execution_count": 17,
   "metadata": {},
   "outputs": [
    {
     "ename": "IndentationError",
     "evalue": "unindent does not match any outer indentation level (<tokenize>, line 3)",
     "output_type": "error",
     "traceback": [
      "\u001b[1;36m  File \u001b[1;32m\"<tokenize>\"\u001b[1;36m, line \u001b[1;32m3\u001b[0m\n\u001b[1;33m    print('5 is small')\u001b[0m\n\u001b[1;37m    ^\u001b[0m\n\u001b[1;31mIndentationError\u001b[0m\u001b[1;31m:\u001b[0m unindent does not match any outer indentation level\n"
     ]
    }
   ],
   "source": [
    "if (51<6):\n",
    "    print('im inside if')\n",
    " print('5 is small')\n",
    "print('Im out of if ')"
   ]
  },
  {
   "cell_type": "code",
   "execution_count": 18,
   "metadata": {},
   "outputs": [
    {
     "name": "stdout",
     "output_type": "stream",
     "text": [
      "Im out of if \n"
     ]
    }
   ],
   "source": [
    "if (51<51):\n",
    "    print('im inside if')\n",
    "    print('5 is small')\n",
    "print('Im out of if ')"
   ]
  },
  {
   "cell_type": "code",
   "execution_count": 19,
   "metadata": {},
   "outputs": [
    {
     "ename": "SyntaxError",
     "evalue": "invalid syntax (<ipython-input-19-8e43a28914d6>, line 1)",
     "output_type": "error",
     "traceback": [
      "\u001b[1;36m  File \u001b[1;32m\"<ipython-input-19-8e43a28914d6>\"\u001b[1;36m, line \u001b[1;32m1\u001b[0m\n\u001b[1;33m    if (5<6)\u001b[0m\n\u001b[1;37m            ^\u001b[0m\n\u001b[1;31mSyntaxError\u001b[0m\u001b[1;31m:\u001b[0m invalid syntax\n"
     ]
    }
   ],
   "source": [
    "if (5<6)\n",
    "    print('im inside if')\n",
    "    print('5 is small')\n",
    "print('Im out of if ')"
   ]
  },
  {
   "cell_type": "code",
   "execution_count": 1,
   "metadata": {},
   "outputs": [
    {
     "name": "stdout",
     "output_type": "stream",
     "text": [
      "i am inside else block\n"
     ]
    }
   ],
   "source": [
    "if(4>7):\n",
    "    print('i am inside if block')\n",
    "else:\n",
    "    print('i am inside else block')"
   ]
  },
  {
   "cell_type": "code",
   "execution_count": 2,
   "metadata": {},
   "outputs": [
    {
     "name": "stdout",
     "output_type": "stream",
     "text": [
      "i am inside else block\n",
      "i am going to exit\n"
     ]
    }
   ],
   "source": [
    "if(4>7):\n",
    "    print('i am inside if block')\n",
    "else:\n",
    "    print('i am inside else block')\n",
    "print('i am going to exit')"
   ]
  },
  {
   "cell_type": "code",
   "execution_count": 6,
   "metadata": {},
   "outputs": [
    {
     "name": "stdout",
     "output_type": "stream",
     "text": [
      "i am inside else block\n"
     ]
    }
   ],
   "source": [
    "if(4>7):\n",
    "     print('i am inside if block') \n",
    "else:\n",
    "    print('i am inside else block')"
   ]
  },
  {
   "cell_type": "code",
   "execution_count": 9,
   "metadata": {},
   "outputs": [
    {
     "name": "stdout",
     "output_type": "stream",
     "text": [
      "6 is existed in between 5 and 6\n"
     ]
    }
   ],
   "source": [
    "if(5<6):\n",
    "    if(6<7):\n",
    "        print('6 is existed in between 5 and 6')\n",
    "    else:\n",
    "        print('wrong choice')\n",
    "else:\n",
    "    print('try again')"
   ]
  },
  {
   "cell_type": "code",
   "execution_count": 10,
   "metadata": {},
   "outputs": [
    {
     "name": "stdout",
     "output_type": "stream",
     "text": [
      "6 is existed in between 5 and 6\n"
     ]
    }
   ],
   "source": [
    "if ((5<6) and (6<7)):\n",
    "    print (\"6 is existed in between 5 and 6\")\n",
    "else:\n",
    "    print (\"try again\")"
   ]
  },
  {
   "cell_type": "code",
   "execution_count": 13,
   "metadata": {},
   "outputs": [
    {
     "name": "stdout",
     "output_type": "stream",
     "text": [
      "true\n"
     ]
    }
   ],
   "source": [
    "if (34<67):\n",
    "    print(\"true\")\n",
    "elif(34>45):\n",
    "    print('im from elif')\n",
    "else:\n",
    "    print(\"false\")"
   ]
  },
  {
   "cell_type": "markdown",
   "metadata": {},
   "source": [
    "### task1: write a logic to find biggest of 2 numbers 34 and 234\n",
    "### task2: write a logic for biggest of 3 numbers\n",
    "    - if it is even print power of that number.\n",
    "    - otherwise print multiply that value with 5\n",
    "### task4: write a logic to find a given number is multiple or not"
   ]
  },
  {
   "cell_type": "code",
   "execution_count": null,
   "metadata": {},
   "outputs": [],
   "source": [
    "n = int(i()) "
   ]
  },
  {
   "cell_type": "code",
   "execution_count": null,
   "metadata": {},
   "outputs": [],
   "source": [
    "n =int(input('enter the number:'))\n",
    "if (n%5==0):\n",
    "    print('multiple with 5')\n",
    "else:\n",
    "    print('not multiple with 5')"
   ]
  },
  {
   "cell_type": "code",
   "execution_count": null,
   "metadata": {},
   "outputs": [],
   "source": []
  }
 ],
 "metadata": {
  "kernelspec": {
   "display_name": "Python 3",
   "language": "python",
   "name": "python3"
  },
  "language_info": {
   "codemirror_mode": {
    "name": "ipython",
    "version": 3
   },
   "file_extension": ".py",
   "mimetype": "text/x-python",
   "name": "python",
   "nbconvert_exporter": "python",
   "pygments_lexer": "ipython3",
   "version": "3.7.4"
  }
 },
 "nbformat": 4,
 "nbformat_minor": 4
}
