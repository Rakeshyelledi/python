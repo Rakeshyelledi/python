{
 "cells": [
  {
   "cell_type": "code",
   "execution_count": null,
   "metadata": {},
   "outputs": [],
   "source": []
  },
  {
   "cell_type": "code",
   "execution_count": 1,
   "metadata": {},
   "outputs": [
    {
     "name": "stdout",
     "output_type": "stream",
     "text": [
      "g\n",
      "None\n"
     ]
    }
   ],
   "source": [
    "def swap_case(s):\n",
    "    return\n",
    "\n",
    "m = input()\n",
    "print(swap_case(m))"
   ]
  },
  {
   "cell_type": "code",
   "execution_count": 2,
   "metadata": {},
   "outputs": [
    {
     "name": "stdout",
     "output_type": "stream",
     "text": [
      "hackerrank.com presents 'pythonist 2'.\n",
      "Hackerrank.com presents 'pythonist 2'.\n",
      "Hackerrank.Com Presents 'Pythonist 2'.\n",
      "hACKERrANK.COM PRESENTS 'pYTHONIST 2'.\n"
     ]
    }
   ],
   "source": [
    "p = \"HackerRank.com presents 'Pythonist 2'.\"\n",
    "print(p.lower())\n",
    "print(p.capitalize())\n",
    "print(p.title())\n",
    "print(p.swapcase())"
   ]
  },
  {
   "cell_type": "code",
   "execution_count": 3,
   "metadata": {
    "scrolled": true
   },
   "outputs": [
    {
     "name": "stdout",
     "output_type": "stream",
     "text": [
      "['__add__', '__class__', '__contains__', '__delattr__', '__dir__', '__doc__', '__eq__', '__format__', '__ge__', '__getattribute__', '__getitem__', '__getnewargs__', '__gt__', '__hash__', '__init__', '__init_subclass__', '__iter__', '__le__', '__len__', '__lt__', '__mod__', '__mul__', '__ne__', '__new__', '__reduce__', '__reduce_ex__', '__repr__', '__rmod__', '__rmul__', '__setattr__', '__sizeof__', '__str__', '__subclasshook__', 'capitalize', 'casefold', 'center', 'count', 'encode', 'endswith', 'expandtabs', 'find', 'format', 'format_map', 'index', 'isalnum', 'isalpha', 'isascii', 'isdecimal', 'isdigit', 'isidentifier', 'islower', 'isnumeric', 'isprintable', 'isspace', 'istitle', 'isupper', 'join', 'ljust', 'lower', 'lstrip', 'maketrans', 'partition', 'replace', 'rfind', 'rindex', 'rjust', 'rpartition', 'rsplit', 'rstrip', 'split', 'splitlines', 'startswith', 'strip', 'swapcase', 'title', 'translate', 'upper', 'zfill']\n"
     ]
    }
   ],
   "source": [
    "print(dir(str))"
   ]
  },
  {
   "cell_type": "code",
   "execution_count": 6,
   "metadata": {},
   "outputs": [
    {
     "name": "stdout",
     "output_type": "stream",
     "text": [
      "['th', 's ', 's sample example'] <class 'list'>\n"
     ]
    }
   ],
   "source": [
    "a = \"this is sample example\"\n",
    "w = a.split()\n",
    "print(w,type(w))"
   ]
  },
  {
   "cell_type": "code",
   "execution_count": 12,
   "metadata": {},
   "outputs": [
    {
     "name": "stdout",
     "output_type": "stream",
     "text": [
      "rajeshis\n",
      "e\n",
      "['raj', 'shis']\n",
      "+\n",
      "raj##shis\n"
     ]
    }
   ],
   "source": [
    "r = input()\n",
    "n = input()\n",
    "c = r.split(n)\n",
    "print(c)\n",
    "p = input()\n",
    "t = \"##\".join(c)\n",
    "print(t)"
   ]
  },
  {
   "cell_type": "code",
   "execution_count": 14,
   "metadata": {},
   "outputs": [
    {
     "ename": "SyntaxError",
     "evalue": "invalid syntax (<ipython-input-14-007bbd556887>, line 3)",
     "output_type": "error",
     "traceback": [
      "\u001b[1;36m  File \u001b[1;32m\"<ipython-input-14-007bbd556887>\"\u001b[1;36m, line \u001b[1;32m3\u001b[0m\n\u001b[1;33m    odd place position characters are:s @ % Y & q\u001b[0m\n\u001b[1;37m            ^\u001b[0m\n\u001b[1;31mSyntaxError\u001b[0m\u001b[1;31m:\u001b[0m invalid syntax\n"
     ]
    }
   ],
   "source": [
    "y = \"asr@R1%qYd&uq\"\n",
    "\n",
    "Odd place position characters are:s @ 1 q 6 & 8\n",
    "Even place position characters are ?\n",
    "Odd place position characters count is: ?\n",
    "Even place position characters count is: ?\n",
    "Uppercase characters are: R Y\n",
    "Lowercase characters are: ?\n",
    "Intergers are: 1 6 8 \n",
    "    "
   ]
  },
  {
   "cell_type": "code",
   "execution_count": 59,
   "metadata": {},
   "outputs": [
    {
     "name": "stdout",
     "output_type": "stream",
     "text": [
      "Odd place position characters are: s @ 1 q Y & u q \n",
      "Even place position characters are: a r R % 7 d 5 6 \n",
      "Odd place position characters are: 8\n",
      "Even place position characters are: 8\n",
      "R Y Uppercase characters are: \n",
      "Lower characters are: a  s  r  q  d  u  q  \n",
      "Integers are: 1 7 5 6 \n"
     ]
    }
   ],
   "source": [
    "def oddpc(t):\n",
    "    e,o= \"\",\"\"\n",
    "    ec,oc = 0,0\n",
    "    for l in range(len(t)):\n",
    "        if l%2!=0:\n",
    "            o+=t[l]+\" \"\n",
    "            oc+=1\n",
    "        else:\n",
    "            e+=t[l]+\" \"\n",
    "            ec+=1\n",
    "    print(\"Odd place position characters are: {}\".format(o)) \n",
    "    print(\"Even place position characters are: {}\".format(e))\n",
    "    print(\"Odd place position characters are: {}\".format(oc))\n",
    "    print(\"Even place position characters are: {}\".format(ec)) \n",
    "    return \n",
    "\n",
    "def spch(d):\n",
    "    u,l,i,s = \"\",\"\",\"\",\"\"\n",
    "    for v in d:\n",
    "        if v.isupper():\n",
    "            print(v,end=\" \")\n",
    "        elif v.islower():\n",
    "            l+=v+\"  \"\n",
    "        elif v.isdecimal(): \n",
    "            i+=v+\" \"\n",
    "        else:\n",
    "            s+=v+\" \"\n",
    "    print(\"Uppercase characters are: {}\".format(u))        \n",
    "    print(\"Lower characters are: {}\".format(l)) \n",
    "    print(\"Integers are: {}\".format(i)) \n",
    "    return\n",
    "\n",
    "m = \"asr@R1%q7Yd&5u6q\"\n",
    "oddpc(m)\n",
    "spch(m)"
   ]
  },
  {
   "cell_type": "code",
   "execution_count": null,
   "metadata": {},
   "outputs": [],
   "source": []
  }
 ],
 "metadata": {
  "kernelspec": {
   "display_name": "Python 3",
   "language": "python",
   "name": "python3"
  },
  "language_info": {
   "codemirror_mode": {
    "name": "ipython",
    "version": 3
   },
   "file_extension": ".py",
   "mimetype": "text/x-python",
   "name": "python",
   "nbconvert_exporter": "python",
   "pygments_lexer": "ipython3",
   "version": "3.7.4"
  }
 },
 "nbformat": 4,
 "nbformat_minor": 4
}
