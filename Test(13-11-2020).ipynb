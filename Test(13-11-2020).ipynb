{
 "cells": [
  {
   "cell_type": "code",
   "execution_count": 64,
   "metadata": {},
   "outputs": [
    {
     "name": "stdout",
     "output_type": "stream",
     "text": [
      " enter the number: 4\n",
      " factorial of number 4 is 24\n"
     ]
    }
   ],
   "source": [
    "#You have been given a positive integer N. You need to find and print the Factorial of this number. The Factorial of a positive integer N refers to the product of all numbers in the range from 1 to N. You can read more about the factorial of a number\n",
    "\n",
    "#Input Format:\n",
    "#The first and only line of the input contains a single integer N denoting the number whose factorial you need to find.\n",
    "\n",
    "n = int(input(\" enter the number: \"))\n",
    "a = 1\n",
    "\n",
    "for i in range (1, n+1):\n",
    "    a = a*i\n",
    "\n",
    "print (\" factorial of number %d is %d\" %(n, a))"
   ]
  },
  {
   "cell_type": "code",
   "execution_count": 57,
   "metadata": {},
   "outputs": [
    {
     "name": "stdout",
     "output_type": "stream",
     "text": [
      "zzzoooooo\n",
      "Yes\n"
     ]
    }
   ],
   "source": [
    "#You are required to enter a word that consists of x and y that denote the number of Zs and Os respectively. The input word is considered similar to word zoo if 2×x=y Determine if the entered word is similar to word zoo\n",
    "\n",
    "word = input()\n",
    "if len(word) <= 20:\n",
    "    if 2*(word.count('z')) == word.count('o'):\n",
    "        print('Yes')\n",
    "else:\n",
    "        print('No')"
   ]
  },
  {
   "cell_type": "code",
   "execution_count": 61,
   "metadata": {},
   "outputs": [
    {
     "name": "stdout",
     "output_type": "stream",
     "text": [
      "aba\n",
      "4\n"
     ]
    }
   ],
   "source": [
    "#Consider All lowercase Alphabets of the English language. Here we consider each alphabet from a to z to have a certain weight. The weight of the alphabet a is considered to be 1, b to be 2, c to be 3 and so on until z has a weight of 26. In short, the weight of the alphabet a is 1, and the weight of all other alphabets is the weight of its previous alphabet + 1.\n",
    "#Now, you have been given a String S consisting of lowercase English characters. You need to find the summation of weight of each character in this String.\n",
    "\n",
    "a = input()\n",
    "sum = 0\n",
    "for ch in a:\n",
    "    sum += (ord(ch) -96)\n",
    "print(sum)"
   ]
  },
  {
   "cell_type": "code",
   "execution_count": null,
   "metadata": {},
   "outputs": [],
   "source": [
    "# You have been given 3 integers - l, r and k. Find how many numbers between l and r (both inclusive) are divisible by k. You do not need to print these numbers, you just have to find their count.\n"
   ]
  }
 ],
 "metadata": {
  "kernelspec": {
   "display_name": "Python 3",
   "language": "python",
   "name": "python3"
  },
  "language_info": {
   "codemirror_mode": {
    "name": "ipython",
    "version": 3
   },
   "file_extension": ".py",
   "mimetype": "text/x-python",
   "name": "python",
   "nbconvert_exporter": "python",
   "pygments_lexer": "ipython3",
   "version": "3.7.4"
  }
 },
 "nbformat": 4,
 "nbformat_minor": 4
}
