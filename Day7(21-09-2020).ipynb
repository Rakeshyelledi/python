{
 "cells": [
  {
   "cell_type": "markdown",
   "metadata": {},
   "source": [
    "### Task 1: generate a math tables from upto given range.\n",
    "- input: 5\n",
    "- 2,3,4,5 tables"
   ]
  },
  {
   "cell_type": "code",
   "execution_count": 5,
   "metadata": {},
   "outputs": [
    {
     "name": "stdout",
     "output_type": "stream",
     "text": [
      "Enter the a number3\n",
      "2 * 1 = 2\n",
      "2 * 2 = 4\n",
      "2 * 3 = 6\n",
      "2 * 4 = 8\n",
      "2 * 5 = 10\n",
      "2 * 6 = 12\n",
      "2 * 7 = 14\n",
      "2 * 8 = 16\n",
      "2 * 9 = 18\n",
      "2 * 10 = 20\n",
      "3 * 1 = 3\n",
      "3 * 2 = 6\n",
      "3 * 3 = 9\n",
      "3 * 4 = 12\n",
      "3 * 5 = 15\n",
      "3 * 6 = 18\n",
      "3 * 7 = 21\n",
      "3 * 8 = 24\n",
      "3 * 9 = 27\n",
      "3 * 10 = 30\n"
     ]
    }
   ],
   "source": [
    "n = int(input('Enter the a number'))\n",
    "for i in range(2,n+1):\n",
    "    for j in range(1,11):\n",
    "        print(i,'*',j,'=',i*j,)"
   ]
  },
  {
   "cell_type": "markdown",
   "metadata": {},
   "source": [
    "### Task2:\n",
    "### Generate even numbers upto 100(use range with 3 args)\n",
    "### input: enter start value example(5)\n",
    "### output: 6,8,10,..........,100"
   ]
  },
  {
   "cell_type": "code",
   "execution_count": 8,
   "metadata": {},
   "outputs": [
    {
     "name": "stdout",
     "output_type": "stream",
     "text": [
      "Enter start value5\n",
      "6,8,10,12,14,16,18,20,22,24,26,28,30,32,34,36,38,40,42,44,46,48,50,52,54,56,58,60,62,64,66,68,70,72,74,76,78,80,82,84,86,88,90,92,94,96,98,100,"
     ]
    }
   ],
   "source": [
    "a=int(input('Enter start value'))\n",
    "if(a%2==0):\n",
    "    for x in range(a,101,2):\n",
    "        print(x,end=',')\n",
    "else:\n",
    "    for x in range(a+1,101,2):\n",
    "        print(x,end=',')"
   ]
  },
  {
   "cell_type": "markdown",
   "metadata": {},
   "source": [
    "## Functions:\n",
    "- It is set of statements.\n",
    "- Used to perform a particular task (or) it performs specific task.\n",
    "- Reuse the code (or) we can use same function many times.\n",
    "- We can pass arguments and we can return result.\n",
    "- We have two different types \n",
    "    - Userdefined function.\n",
    "    - Predefined or libary or built in functions.\n",
    "#### User Defined functions:\n",
    "    - User can define his own functionality.\n",
    "    - Syntax: \n",
    "    \n",
    "        ``` def function_name(parameter1,parameter2.......,):\n",
    "               #  body of the loop ``` \n",
    "    - we can implement this userdefined functions in 4 different ways\n",
    "    - Those are\n",
    "        - no arguments and no return value.\n",
    "        - no arguments and a return value.\n",
    "        - with arguments and no return value.\n",
    "        - with arguments and a return value."
   ]
  },
  {
   "cell_type": "code",
   "execution_count": 9,
   "metadata": {},
   "outputs": [],
   "source": [
    "# no arguments and no return value\n",
    "\n",
    "def hello():\n",
    "    print('hi , iam from hello()')"
   ]
  },
  {
   "cell_type": "code",
   "execution_count": 10,
   "metadata": {},
   "outputs": [
    {
     "name": "stdout",
     "output_type": "stream",
     "text": [
      "hi , iam from hello()\n"
     ]
    }
   ],
   "source": [
    "hello()"
   ]
  },
  {
   "cell_type": "code",
   "execution_count": 11,
   "metadata": {},
   "outputs": [],
   "source": [
    "# no arguments and a return value\n",
    "def hello1():\n",
    "    return 'i am from hello1'"
   ]
  },
  {
   "cell_type": "code",
   "execution_count": 12,
   "metadata": {},
   "outputs": [
    {
     "data": {
      "text/plain": [
       "'i am from hello1'"
      ]
     },
     "execution_count": 12,
     "metadata": {},
     "output_type": "execute_result"
    }
   ],
   "source": [
    "hello1()"
   ]
  },
  {
   "cell_type": "code",
   "execution_count": 15,
   "metadata": {},
   "outputs": [],
   "source": [
    "# with arguments and no return value.\n",
    "def add(n1,n2):\n",
    "    print('sum of n1 and n2 is:',n1+n2)"
   ]
  },
  {
   "cell_type": "code",
   "execution_count": 16,
   "metadata": {},
   "outputs": [
    {
     "name": "stdout",
     "output_type": "stream",
     "text": [
      "sum of n1 and n2 is: 100\n"
     ]
    }
   ],
   "source": [
    "a,b=45,55\n",
    "add(a,b)"
   ]
  },
  {
   "cell_type": "code",
   "execution_count": 17,
   "metadata": {},
   "outputs": [],
   "source": [
    "# with arguments and a return value\n",
    "def mul(x1,x2):\n",
    "    return x1*x2"
   ]
  },
  {
   "cell_type": "code",
   "execution_count": 21,
   "metadata": {},
   "outputs": [
    {
     "name": "stdout",
     "output_type": "stream",
     "text": [
      "mul of n1 and n2 is: 20\n"
     ]
    }
   ],
   "source": [
    "n1,n2=5,4\n",
    "rs = mul(n1,n2)\n",
    "print('mul of n1 and n2 is:',rs)"
   ]
  },
  {
   "cell_type": "code",
   "execution_count": 23,
   "metadata": {},
   "outputs": [],
   "source": [
    "# implement fuunctions on all arithmatic operators\n",
    "def add(n1,n2):\n",
    "    return n1+n2\n",
    "def sub(n1,n2):\n",
    "    return n1-n2\n",
    "def mul(n1,n2):\n",
    "    return n1*n2\n",
    "def div(n1,n2):\n",
    "    return n1/n2\n",
    "def mod(n1,n2):\n",
    "    return n1%n2"
   ]
  },
  {
   "cell_type": "code",
   "execution_count": 25,
   "metadata": {},
   "outputs": [
    {
     "name": "stdout",
     "output_type": "stream",
     "text": [
      "add,sub,mul of n1 and n2 is: (11, 1, 30)\n"
     ]
    }
   ],
   "source": [
    "n1,n2=6,5\n",
    "result = add(n1,n2),sub(n1,n2),mul(n1,n2)\n",
    "print('add,sub,mul of n1 and n2 is:',result)"
   ]
  },
  {
   "cell_type": "markdown",
   "metadata": {},
   "source": [
    "### Predefined functions:\n",
    "- Already implemented in programming.\n",
    "- Pow,range\n",
    "- Print,input,type,char,bool,int,float,str,min,max,sum,help,etc...."
   ]
  },
  {
   "cell_type": "code",
   "execution_count": null,
   "metadata": {},
   "outputs": [],
   "source": []
  }
 ],
 "metadata": {
  "kernelspec": {
   "display_name": "Python 3",
   "language": "python",
   "name": "python3"
  },
  "language_info": {
   "codemirror_mode": {
    "name": "ipython",
    "version": 3
   },
   "file_extension": ".py",
   "mimetype": "text/x-python",
   "name": "python",
   "nbconvert_exporter": "python",
   "pygments_lexer": "ipython3",
   "version": "3.7.4"
  }
 },
 "nbformat": 4,
 "nbformat_minor": 4
}
