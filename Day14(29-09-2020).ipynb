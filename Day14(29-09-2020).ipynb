{
 "cells": [
  {
   "cell_type": "markdown",
   "metadata": {},
   "source": [
    "### find the max and second max of a list\n",
    "\n",
    "ex: [10,20,9,100,89,500]\n",
    "500,100"
   ]
  },
  {
   "cell_type": "code",
   "execution_count": 5,
   "metadata": {},
   "outputs": [
    {
     "name": "stdout",
     "output_type": "stream",
     "text": [
      "min value is 500\n",
      "second min value is 100\n"
     ]
    }
   ],
   "source": [
    "li = [10,20,9,100,89,500]\n",
    "li.sort()\n",
    "\n",
    "print(\"min value is\",li[-1])\n",
    "print(\"second min value is\",li[-2])"
   ]
  },
  {
   "cell_type": "code",
   "execution_count": 6,
   "metadata": {},
   "outputs": [
    {
     "name": "stdout",
     "output_type": "stream",
     "text": [
      "max number in a list is 500\n"
     ]
    }
   ],
   "source": [
    "# find the min and second max without using predefined functions\n",
    "li = [10,20,9,100,89,500]\n",
    "m=li[0]\n",
    "for i in li:\n",
    "    if(i>m):\n",
    "        m=i\n",
    "print(\"max number in a list is\",m)"
   ]
  },
  {
   "cell_type": "code",
   "execution_count": 7,
   "metadata": {},
   "outputs": [
    {
     "name": "stdout",
     "output_type": "stream",
     "text": [
      "min number in a list is 9\n"
     ]
    }
   ],
   "source": [
    "# find the min number in a list \n",
    "\n",
    "li = [10,20,9,100,89,500]\n",
    "m=li[0]\n",
    "for i in li:\n",
    "    if(i<m):\n",
    "        m=i\n",
    "print(\"min number in a list is\",m)"
   ]
  },
  {
   "cell_type": "code",
   "execution_count": 16,
   "metadata": {},
   "outputs": [
    {
     "name": "stdout",
     "output_type": "stream",
     "text": [
      "[9, 10, 20, 89, 100, 500]\n"
     ]
    }
   ],
   "source": [
    "# sort the list of elements without using predefined function\n",
    "li = [10,20,9,100,89,500]\n",
    "for i in range(len(li)):\n",
    "    for j in range(i+1,len(li)):\n",
    "\n",
    "        if li[i] > li[j]:\n",
    "            t = li[i]\n",
    "            li[i]=li[j]\n",
    "            li[j] = t\n",
    "\n",
    "print (li)"
   ]
  },
  {
   "cell_type": "code",
   "execution_count": 46,
   "metadata": {},
   "outputs": [
    {
     "name": "stdout",
     "output_type": "stream",
     "text": [
      "prime numbers are  2\n",
      "prime numbers are  3\n",
      "prime numbers are  5\n",
      "prime numbers are  7\n",
      "prime numbers are  11\n"
     ]
    },
    {
     "data": {
      "text/plain": [
       "[2, 3, 5, 7, 11]"
      ]
     },
     "execution_count": 46,
     "metadata": {},
     "output_type": "execute_result"
    }
   ],
   "source": [
    "# find the prime numbers in a list\n",
    "li=[2,3,4,5,6,7,8,9,10,11]\n",
    "plist = []\n",
    "for i in li:\n",
    "    c = 0\n",
    "    for j in range(2,i):\n",
    "        \n",
    "        if(i%j==0):\n",
    "            c=c+1\n",
    "            \n",
    "    if(c==0):\n",
    "        print(\"prime numbers are \",i)\n",
    "        plist.append(i)\n",
    "plist"
   ]
  },
  {
   "cell_type": "code",
   "execution_count": 48,
   "metadata": {
    "scrolled": true
   },
   "outputs": [
    {
     "data": {
      "text/plain": [
       "[1, 4, 9, 16]"
      ]
     },
     "execution_count": 48,
     "metadata": {},
     "output_type": "execute_result"
    }
   ],
   "source": [
    "# print the squares of list elements\n",
    "li=[1,2,3,4]\n",
    "ll=[]\n",
    "for i in li:\n",
    "    ll.append(i**2)\n",
    "ll"
   ]
  },
  {
   "cell_type": "markdown",
   "metadata": {},
   "source": [
    "### Tuples:\n",
    "\n",
    "* Tuples is like a list\n",
    "* Tuples are immutable list\n",
    "* Tuples are created by using ()"
   ]
  },
  {
   "cell_type": "code",
   "execution_count": 50,
   "metadata": {},
   "outputs": [
    {
     "data": {
      "text/plain": [
       "tuple"
      ]
     },
     "execution_count": 50,
     "metadata": {},
     "output_type": "execute_result"
    }
   ],
   "source": [
    "t=(1,2,3,\"hello\",4,5,6,9.9)\n",
    "type(t)"
   ]
  },
  {
   "cell_type": "code",
   "execution_count": 55,
   "metadata": {},
   "outputs": [
    {
     "data": {
      "text/plain": [
       "(1, 2, 3, [10, 20, 30], 'hello', 6.77)"
      ]
     },
     "execution_count": 55,
     "metadata": {},
     "output_type": "execute_result"
    }
   ],
   "source": [
    "t=(1,2,3,[10,20,30],\"hello\",6.77)\n",
    "t"
   ]
  },
  {
   "cell_type": "code",
   "execution_count": 56,
   "metadata": {},
   "outputs": [
    {
     "data": {
      "text/plain": [
       "[(1, 2, 3), 'hello', 'welcome', 'to', 'all', 10, 20]"
      ]
     },
     "execution_count": 56,
     "metadata": {},
     "output_type": "execute_result"
    }
   ],
   "source": [
    "li=[(1,2,3),\"hello\",\"welcome\",\"to\",\"all\",10,20]\n",
    "li"
   ]
  },
  {
   "cell_type": "code",
   "execution_count": 68,
   "metadata": {},
   "outputs": [
    {
     "data": {
      "text/plain": [
       "(1, 3, '5.7')"
      ]
     },
     "execution_count": 68,
     "metadata": {},
     "output_type": "execute_result"
    }
   ],
   "source": [
    "t=(1,2,3,\"hello\",\"5.7\")\n",
    "t[-1]\n",
    "t[1:6]\n",
    "t[-2]\n",
    "t[::-1]\n",
    "t[0::2]"
   ]
  },
  {
   "cell_type": "code",
   "execution_count": null,
   "metadata": {},
   "outputs": [],
   "source": []
  }
 ],
 "metadata": {
  "kernelspec": {
   "display_name": "Python 3",
   "language": "python",
   "name": "python3"
  },
  "language_info": {
   "codemirror_mode": {
    "name": "ipython",
    "version": 3
   },
   "file_extension": ".py",
   "mimetype": "text/x-python",
   "name": "python",
   "nbconvert_exporter": "python",
   "pygments_lexer": "ipython3",
   "version": "3.7.4"
  }
 },
 "nbformat": 4,
 "nbformat_minor": 4
}
