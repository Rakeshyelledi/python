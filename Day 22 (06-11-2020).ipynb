{
 "cells": [
  {
   "cell_type": "markdown",
   "metadata": {},
   "source": [
    "## About Gitub \n",
    "\n",
    "    -> Git Installations\n",
    "    -> Creation of Gitub profile\n",
    "    "
   ]
  },
  {
   "cell_type": "code",
   "execution_count": null,
   "metadata": {},
   "outputs": [],
   "source": [
    "-> Local -> Github:\n",
    "    \n",
    "    online Github: \n",
    "        -> repository create(folder)\n",
    "        -> repository url copy\n",
    "        \n",
    "    Git bash\n",
    "        -> folder(folder location)\n",
    "        -> right click -> gitbash\n",
    "        -> git init => master\n",
    "        -> git remote add gt \"url path from git\"\n",
    "        -> git add\n",
    "        "
   ]
  },
  {
   "cell_type": "code",
   "execution_count": null,
   "metadata": {},
   "outputs": [],
   "source": []
  }
 ],
 "metadata": {
  "kernelspec": {
   "display_name": "Python 3",
   "language": "python",
   "name": "python3"
  },
  "language_info": {
   "codemirror_mode": {
    "name": "ipython",
    "version": 3
   },
   "file_extension": ".py",
   "mimetype": "text/x-python",
   "name": "python",
   "nbconvert_exporter": "python",
   "pygments_lexer": "ipython3",
   "version": "3.7.4"
  }
 },
 "nbformat": 4,
 "nbformat_minor": 4
}
